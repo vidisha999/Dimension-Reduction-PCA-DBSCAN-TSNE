{
 "cells": [
  {
   "cell_type": "code",
   "execution_count": 674,
   "metadata": {},
   "outputs": [],
   "source": [
    "\n",
    "%matplotlib inline\n",
    "\n",
    "import numpy as np\n",
    "import pandas as pd\n",
    "import seaborn as sns\n",
    "import matplotlib as mpl\n",
    "import matplotlib.pyplot as plt\n",
    "import sklearn\n",
    "import pickle\n",
    "\n",
    "from sklearn.preprocessing import StandardScaler\n",
    "from sklearn.utils import check_random_state\n",
    "from sklearn.decomposition import PCA\n",
    "\n",
    "from nose.tools import assert_equal, assert_is_instance, assert_is_not\n",
    "from numpy.testing import assert_array_equal, assert_array_almost_equal, assert_almost_equal\n",
    "from pandas.util.testing import assert_frame_equal"
   ]
  },
  {
   "cell_type": "markdown",
   "metadata": {},
   "source": [
    "### Problem_1: Dimension Reduction"
   ]
  },
  {
   "cell_type": "markdown",
   "metadata": {},
   "source": [
    "With Problem_1, we aim to have a better understanding of dimension reduction with PCA. We will use Delta Airline data. Delta and other major airlines have data on all of their aircrafts on their website. [e.g.](https://www.delta.com/content/www/en_US/traveling-with-us/airports-and-aircraft/Aircraft.html)\n",
    "\n",
    "We will use delta.csv uploaded on Canvas Module for this assignment.\n",
    "\n",
    "This data set has 34 columns (including the names of the aircrafts) on 44 aircrafts. It inclues both quantitative measurements such as cruising speed, accommodation and range in miles, as well as categorical data, such as whether a particular aircraft has Wi-Fi or video. These binary are assigned values of either 1 or 0, for yes or no respectively."
   ]
  },
  {
   "cell_type": "code",
   "execution_count": 675,
   "metadata": {},
   "outputs": [],
   "source": [
    "df = pd.read_csv('delta.csv', index_col='Aircraft')\n"
   ]
  },
  {
   "cell_type": "code",
   "execution_count": 676,
   "metadata": {},
   "outputs": [
    {
     "data": {
      "text/html": [
       "<div>\n",
       "<style scoped>\n",
       "    .dataframe tbody tr th:only-of-type {\n",
       "        vertical-align: middle;\n",
       "    }\n",
       "\n",
       "    .dataframe tbody tr th {\n",
       "        vertical-align: top;\n",
       "    }\n",
       "\n",
       "    .dataframe thead th {\n",
       "        text-align: right;\n",
       "    }\n",
       "</style>\n",
       "<table border=\"1\" class=\"dataframe\">\n",
       "  <thead>\n",
       "    <tr style=\"text-align: right;\">\n",
       "      <th></th>\n",
       "      <th>Seat Width (Club)</th>\n",
       "      <th>Seat Pitch (Club)</th>\n",
       "      <th>Seat (Club)</th>\n",
       "      <th>Seat Width (First Class)</th>\n",
       "      <th>Seat Pitch (First Class)</th>\n",
       "      <th>Seats (First Class)</th>\n",
       "      <th>Seat Width (Business)</th>\n",
       "      <th>Seat Pitch (Business)</th>\n",
       "      <th>Seats (Business)</th>\n",
       "      <th>Seat Width (Eco Comfort)</th>\n",
       "      <th>...</th>\n",
       "      <th>Video</th>\n",
       "      <th>Power</th>\n",
       "      <th>Satellite</th>\n",
       "      <th>Flat-bed</th>\n",
       "      <th>Sleeper</th>\n",
       "      <th>Club</th>\n",
       "      <th>First Class</th>\n",
       "      <th>Business</th>\n",
       "      <th>Eco Comfort</th>\n",
       "      <th>Economy</th>\n",
       "    </tr>\n",
       "    <tr>\n",
       "      <th>Aircraft</th>\n",
       "      <th></th>\n",
       "      <th></th>\n",
       "      <th></th>\n",
       "      <th></th>\n",
       "      <th></th>\n",
       "      <th></th>\n",
       "      <th></th>\n",
       "      <th></th>\n",
       "      <th></th>\n",
       "      <th></th>\n",
       "      <th></th>\n",
       "      <th></th>\n",
       "      <th></th>\n",
       "      <th></th>\n",
       "      <th></th>\n",
       "      <th></th>\n",
       "      <th></th>\n",
       "      <th></th>\n",
       "      <th></th>\n",
       "      <th></th>\n",
       "      <th></th>\n",
       "    </tr>\n",
       "  </thead>\n",
       "  <tbody>\n",
       "    <tr>\n",
       "      <th>Airbus A319</th>\n",
       "      <td>0.0</td>\n",
       "      <td>0</td>\n",
       "      <td>0</td>\n",
       "      <td>21.0</td>\n",
       "      <td>36.0</td>\n",
       "      <td>12</td>\n",
       "      <td>0.0</td>\n",
       "      <td>0.0</td>\n",
       "      <td>0</td>\n",
       "      <td>17.2</td>\n",
       "      <td>...</td>\n",
       "      <td>0</td>\n",
       "      <td>0</td>\n",
       "      <td>0</td>\n",
       "      <td>0</td>\n",
       "      <td>0</td>\n",
       "      <td>0</td>\n",
       "      <td>1</td>\n",
       "      <td>0</td>\n",
       "      <td>1</td>\n",
       "      <td>1</td>\n",
       "    </tr>\n",
       "    <tr>\n",
       "      <th>Airbus A319 VIP</th>\n",
       "      <td>19.4</td>\n",
       "      <td>44</td>\n",
       "      <td>12</td>\n",
       "      <td>19.4</td>\n",
       "      <td>40.0</td>\n",
       "      <td>28</td>\n",
       "      <td>21.0</td>\n",
       "      <td>59.0</td>\n",
       "      <td>14</td>\n",
       "      <td>0.0</td>\n",
       "      <td>...</td>\n",
       "      <td>1</td>\n",
       "      <td>0</td>\n",
       "      <td>0</td>\n",
       "      <td>0</td>\n",
       "      <td>0</td>\n",
       "      <td>1</td>\n",
       "      <td>1</td>\n",
       "      <td>1</td>\n",
       "      <td>0</td>\n",
       "      <td>0</td>\n",
       "    </tr>\n",
       "    <tr>\n",
       "      <th>Airbus A320</th>\n",
       "      <td>0.0</td>\n",
       "      <td>0</td>\n",
       "      <td>0</td>\n",
       "      <td>21.0</td>\n",
       "      <td>36.0</td>\n",
       "      <td>12</td>\n",
       "      <td>0.0</td>\n",
       "      <td>0.0</td>\n",
       "      <td>0</td>\n",
       "      <td>17.2</td>\n",
       "      <td>...</td>\n",
       "      <td>0</td>\n",
       "      <td>0</td>\n",
       "      <td>0</td>\n",
       "      <td>0</td>\n",
       "      <td>0</td>\n",
       "      <td>0</td>\n",
       "      <td>1</td>\n",
       "      <td>0</td>\n",
       "      <td>1</td>\n",
       "      <td>1</td>\n",
       "    </tr>\n",
       "    <tr>\n",
       "      <th>Airbus A320 32-R</th>\n",
       "      <td>0.0</td>\n",
       "      <td>0</td>\n",
       "      <td>0</td>\n",
       "      <td>21.0</td>\n",
       "      <td>36.0</td>\n",
       "      <td>12</td>\n",
       "      <td>0.0</td>\n",
       "      <td>0.0</td>\n",
       "      <td>0</td>\n",
       "      <td>17.2</td>\n",
       "      <td>...</td>\n",
       "      <td>0</td>\n",
       "      <td>0</td>\n",
       "      <td>0</td>\n",
       "      <td>0</td>\n",
       "      <td>0</td>\n",
       "      <td>0</td>\n",
       "      <td>1</td>\n",
       "      <td>0</td>\n",
       "      <td>1</td>\n",
       "      <td>1</td>\n",
       "    </tr>\n",
       "    <tr>\n",
       "      <th>Airbus A330-200</th>\n",
       "      <td>0.0</td>\n",
       "      <td>0</td>\n",
       "      <td>0</td>\n",
       "      <td>0.0</td>\n",
       "      <td>0.0</td>\n",
       "      <td>0</td>\n",
       "      <td>21.0</td>\n",
       "      <td>60.0</td>\n",
       "      <td>32</td>\n",
       "      <td>18.0</td>\n",
       "      <td>...</td>\n",
       "      <td>1</td>\n",
       "      <td>1</td>\n",
       "      <td>0</td>\n",
       "      <td>1</td>\n",
       "      <td>0</td>\n",
       "      <td>0</td>\n",
       "      <td>0</td>\n",
       "      <td>1</td>\n",
       "      <td>1</td>\n",
       "      <td>1</td>\n",
       "    </tr>\n",
       "  </tbody>\n",
       "</table>\n",
       "<p>5 rows × 33 columns</p>\n",
       "</div>"
      ],
      "text/plain": [
       "                  Seat Width (Club)  Seat Pitch (Club)  Seat (Club)  \\\n",
       "Aircraft                                                              \n",
       "Airbus A319                     0.0                  0            0   \n",
       "Airbus A319 VIP                19.4                 44           12   \n",
       "Airbus A320                     0.0                  0            0   \n",
       "Airbus A320 32-R                0.0                  0            0   \n",
       "Airbus A330-200                 0.0                  0            0   \n",
       "\n",
       "                  Seat Width (First Class)  Seat Pitch (First Class)  \\\n",
       "Aircraft                                                               \n",
       "Airbus A319                           21.0                      36.0   \n",
       "Airbus A319 VIP                       19.4                      40.0   \n",
       "Airbus A320                           21.0                      36.0   \n",
       "Airbus A320 32-R                      21.0                      36.0   \n",
       "Airbus A330-200                        0.0                       0.0   \n",
       "\n",
       "                  Seats (First Class)  Seat Width (Business)  \\\n",
       "Aircraft                                                       \n",
       "Airbus A319                        12                    0.0   \n",
       "Airbus A319 VIP                    28                   21.0   \n",
       "Airbus A320                        12                    0.0   \n",
       "Airbus A320 32-R                   12                    0.0   \n",
       "Airbus A330-200                     0                   21.0   \n",
       "\n",
       "                  Seat Pitch (Business)  Seats (Business)  \\\n",
       "Aircraft                                                    \n",
       "Airbus A319                         0.0                 0   \n",
       "Airbus A319 VIP                    59.0                14   \n",
       "Airbus A320                         0.0                 0   \n",
       "Airbus A320 32-R                    0.0                 0   \n",
       "Airbus A330-200                    60.0                32   \n",
       "\n",
       "                  Seat Width (Eco Comfort)  ...  Video  Power  Satellite  \\\n",
       "Aircraft                                    ...                            \n",
       "Airbus A319                           17.2  ...      0      0          0   \n",
       "Airbus A319 VIP                        0.0  ...      1      0          0   \n",
       "Airbus A320                           17.2  ...      0      0          0   \n",
       "Airbus A320 32-R                      17.2  ...      0      0          0   \n",
       "Airbus A330-200                       18.0  ...      1      1          0   \n",
       "\n",
       "                  Flat-bed  Sleeper  Club  First Class  Business  Eco Comfort  \\\n",
       "Aircraft                                                                        \n",
       "Airbus A319              0        0     0            1         0            1   \n",
       "Airbus A319 VIP          0        0     1            1         1            0   \n",
       "Airbus A320              0        0     0            1         0            1   \n",
       "Airbus A320 32-R         0        0     0            1         0            1   \n",
       "Airbus A330-200          1        0     0            0         1            1   \n",
       "\n",
       "                  Economy  \n",
       "Aircraft                   \n",
       "Airbus A319             1  \n",
       "Airbus A319 VIP         0  \n",
       "Airbus A320             1  \n",
       "Airbus A320 32-R        1  \n",
       "Airbus A330-200         1  \n",
       "\n",
       "[5 rows x 33 columns]"
      ]
     },
     "execution_count": 676,
     "metadata": {},
     "output_type": "execute_result"
    }
   ],
   "source": [
    "df.head()"
   ]
  },
  {
   "cell_type": "markdown",
   "metadata": {},
   "source": [
    "First, let's look at the attributes related to the aircraft physical characteristics:\n",
    "\n",
    "Cruising Speed (mph)\n",
    "Range (miles)\n",
    "Engines\n",
    "Wingspan (ft)\n",
    "Tail Height (ft)\n",
    "Length (ft)\n",
    "These six variables are about in the middle of the data frame (and it's part of your task to figure out where they are located).\n",
    "\n",
    "Write a function named plot_pairgrid() that takes a pandas.DataFrame and uses seaborn.PairGrid to visualize the attributes related to the six physical characteristics listed above. The plots on the diagonal should be histograms of corresponding attributes, and the off-diagonal should be scatter plots."
   ]
  },
  {
   "cell_type": "code",
   "execution_count": 678,
   "metadata": {},
   "outputs": [
    {
     "data": {
      "text/html": [
       "<div>\n",
       "<style scoped>\n",
       "    .dataframe tbody tr th:only-of-type {\n",
       "        vertical-align: middle;\n",
       "    }\n",
       "\n",
       "    .dataframe tbody tr th {\n",
       "        vertical-align: top;\n",
       "    }\n",
       "\n",
       "    .dataframe thead th {\n",
       "        text-align: right;\n",
       "    }\n",
       "</style>\n",
       "<table border=\"1\" class=\"dataframe\">\n",
       "  <thead>\n",
       "    <tr style=\"text-align: right;\">\n",
       "      <th></th>\n",
       "      <th>Cruising Speed (mph)</th>\n",
       "      <th>Range (miles)</th>\n",
       "      <th>Engines</th>\n",
       "      <th>Wingspan (ft)</th>\n",
       "      <th>Tail Height (ft)</th>\n",
       "      <th>Length (ft)</th>\n",
       "    </tr>\n",
       "    <tr>\n",
       "      <th>Aircraft</th>\n",
       "      <th></th>\n",
       "      <th></th>\n",
       "      <th></th>\n",
       "      <th></th>\n",
       "      <th></th>\n",
       "      <th></th>\n",
       "    </tr>\n",
       "  </thead>\n",
       "  <tbody>\n",
       "    <tr>\n",
       "      <th>Airbus A319</th>\n",
       "      <td>517</td>\n",
       "      <td>2399</td>\n",
       "      <td>2</td>\n",
       "      <td>111.83</td>\n",
       "      <td>38.583</td>\n",
       "      <td>111.00</td>\n",
       "    </tr>\n",
       "    <tr>\n",
       "      <th>Airbus A319 VIP</th>\n",
       "      <td>517</td>\n",
       "      <td>3119</td>\n",
       "      <td>2</td>\n",
       "      <td>111.83</td>\n",
       "      <td>38.583</td>\n",
       "      <td>111.00</td>\n",
       "    </tr>\n",
       "    <tr>\n",
       "      <th>Airbus A320</th>\n",
       "      <td>517</td>\n",
       "      <td>2420</td>\n",
       "      <td>2</td>\n",
       "      <td>111.83</td>\n",
       "      <td>38.583</td>\n",
       "      <td>123.25</td>\n",
       "    </tr>\n",
       "    <tr>\n",
       "      <th>Airbus A320 32-R</th>\n",
       "      <td>517</td>\n",
       "      <td>2420</td>\n",
       "      <td>2</td>\n",
       "      <td>111.83</td>\n",
       "      <td>38.583</td>\n",
       "      <td>123.25</td>\n",
       "    </tr>\n",
       "    <tr>\n",
       "      <th>Airbus A330-200</th>\n",
       "      <td>531</td>\n",
       "      <td>6536</td>\n",
       "      <td>2</td>\n",
       "      <td>197.83</td>\n",
       "      <td>59.830</td>\n",
       "      <td>188.67</td>\n",
       "    </tr>\n",
       "  </tbody>\n",
       "</table>\n",
       "</div>"
      ],
      "text/plain": [
       "                  Cruising Speed (mph)  Range (miles)  Engines  Wingspan (ft)  \\\n",
       "Aircraft                                                                        \n",
       "Airbus A319                        517           2399        2         111.83   \n",
       "Airbus A319 VIP                    517           3119        2         111.83   \n",
       "Airbus A320                        517           2420        2         111.83   \n",
       "Airbus A320 32-R                   517           2420        2         111.83   \n",
       "Airbus A330-200                    531           6536        2         197.83   \n",
       "\n",
       "                  Tail Height (ft)  Length (ft)  \n",
       "Aircraft                                         \n",
       "Airbus A319                 38.583       111.00  \n",
       "Airbus A319 VIP             38.583       111.00  \n",
       "Airbus A320                 38.583       123.25  \n",
       "Airbus A320 32-R            38.583       123.25  \n",
       "Airbus A330-200             59.830       188.67  "
      ]
     },
     "execution_count": 678,
     "metadata": {},
     "output_type": "execute_result"
    }
   ],
   "source": [
    "\n",
    "def plot_pairgrid(df):\n",
    "    '''\n",
    "    Uses seaborn.PairGrid to visualize the attributes related to the six physical characteristics.\n",
    "    Diagonal plots are histograms. The off-diagonal plots are scatter plots.\n",
    "    \n",
    "    Parameters\n",
    "    ----------\n",
    "    df: A pandas.DataFrame. Comes from importing delta.csv.\n",
    "    \n",
    "    Returns\n",
    "    -------\n",
    "    A seaborn.axisgrid.PairGrid instance.\n",
    "    '''\n",
    "    \n",
    "    # YOUR CODE HERE\n",
    "    ax = sns.PairGrid(df)\n",
    "    ax.map_diag(sns.histplot)\n",
    "    ax.map_offdiag(sns.scatterplot)\n",
    "    \n",
    "    return ax\n",
    "\n",
    "Physical_Char = df.filter([\"Cruising Speed (mph)\", \"Range (miles)\",\"Engines\", \"Wingspan (ft)\",\"Tail Height (ft)\", \"Length (ft)\"])\n",
    "Physical_Char.head()\n"
   ]
  },
  {
   "cell_type": "code",
   "execution_count": 679,
   "metadata": {},
   "outputs": [
    {
     "data": {
      "image/png": "[encoded data removed]",
      "text/plain": [
       "<Figure size 1080x1080 with 42 Axes>"
      ]
     },
     "metadata": {
      "needs_background": "light"
     },
     "output_type": "display_data"
    }
   ],
   "source": [
    "pg = plot_pairgrid(Physical_Char) #your answer should look like this"
   ]
  },
  {
   "cell_type": "markdown",
   "metadata": {},
   "source": [
    "We observe that pretty strong positive correlations between all these variables, as most of them are related to the aircraft’s overall size. Remarkably there is an almost perfectly linear relationship between wingspan and tail height.\n",
    "\n",
    "The exception here is engines. There is one outlier which has four engines, while all the other aircraft have two. In this way the engines variable is really more like a categorical variable, but we shall as the analysis progresses that this is not really important, as there are other variables which more strongly discern the aircraft from one another than this."
   ]
  },
  {
   "cell_type": "code",
   "execution_count": 680,
   "metadata": {},
   "outputs": [
    {
     "ename": "AssertionError",
     "evalue": "7 != 10",
     "output_type": "error",
     "traceback": [
      "\u001b[1;31m---------------------------------------------------------------------------\u001b[0m",
      "\u001b[1;31mAssertionError\u001b[0m                            Traceback (most recent call last)",
      "\u001b[1;32m~\\AppData\\Local\\Temp/ipykernel_15244/239301535.py\u001b[0m in \u001b[0;36m<module>\u001b[1;34m\u001b[0m\n\u001b[0;32m      8\u001b[0m \u001b[1;33m\u001b[0m\u001b[0m\n\u001b[0;32m      9\u001b[0m \u001b[1;32mfor\u001b[0m \u001b[0max\u001b[0m \u001b[1;32min\u001b[0m \u001b[0mpg\u001b[0m\u001b[1;33m.\u001b[0m\u001b[0mdiag_axes\u001b[0m\u001b[1;33m:\u001b[0m\u001b[1;33m\u001b[0m\u001b[1;33m\u001b[0m\u001b[0m\n\u001b[1;32m---> 10\u001b[1;33m     \u001b[0massert_equal\u001b[0m\u001b[1;33m(\u001b[0m\u001b[0mlen\u001b[0m\u001b[1;33m(\u001b[0m\u001b[0max\u001b[0m\u001b[1;33m.\u001b[0m\u001b[0mpatches\u001b[0m\u001b[1;33m)\u001b[0m\u001b[1;33m,\u001b[0m \u001b[1;36m10\u001b[0m\u001b[1;33m)\u001b[0m\u001b[1;33m\u001b[0m\u001b[1;33m\u001b[0m\u001b[0m\n\u001b[0m\u001b[0;32m     11\u001b[0m \u001b[1;33m\u001b[0m\u001b[0m\n\u001b[0;32m     12\u001b[0m \u001b[1;32mfor\u001b[0m \u001b[0mi\u001b[0m\u001b[1;33m,\u001b[0m \u001b[0mj\u001b[0m \u001b[1;32min\u001b[0m \u001b[0mzip\u001b[0m\u001b[1;33m(\u001b[0m\u001b[1;33m*\u001b[0m\u001b[0mnp\u001b[0m\u001b[1;33m.\u001b[0m\u001b[0mtriu_indices_from\u001b[0m\u001b[1;33m(\u001b[0m\u001b[0mpg\u001b[0m\u001b[1;33m.\u001b[0m\u001b[0maxes\u001b[0m\u001b[1;33m,\u001b[0m \u001b[1;36m1\u001b[0m\u001b[1;33m)\u001b[0m\u001b[1;33m)\u001b[0m\u001b[1;33m:\u001b[0m\u001b[1;33m\u001b[0m\u001b[1;33m\u001b[0m\u001b[0m\n",
      "\u001b[1;32m~\\anaconda3\\lib\\unittest\\case.py\u001b[0m in \u001b[0;36massertEqual\u001b[1;34m(self, first, second, msg)\u001b[0m\n\u001b[0;32m    827\u001b[0m         \"\"\"\n\u001b[0;32m    828\u001b[0m         \u001b[0massertion_func\u001b[0m \u001b[1;33m=\u001b[0m \u001b[0mself\u001b[0m\u001b[1;33m.\u001b[0m\u001b[0m_getAssertEqualityFunc\u001b[0m\u001b[1;33m(\u001b[0m\u001b[0mfirst\u001b[0m\u001b[1;33m,\u001b[0m \u001b[0msecond\u001b[0m\u001b[1;33m)\u001b[0m\u001b[1;33m\u001b[0m\u001b[1;33m\u001b[0m\u001b[0m\n\u001b[1;32m--> 829\u001b[1;33m         \u001b[0massertion_func\u001b[0m\u001b[1;33m(\u001b[0m\u001b[0mfirst\u001b[0m\u001b[1;33m,\u001b[0m \u001b[0msecond\u001b[0m\u001b[1;33m,\u001b[0m \u001b[0mmsg\u001b[0m\u001b[1;33m=\u001b[0m\u001b[0mmsg\u001b[0m\u001b[1;33m)\u001b[0m\u001b[1;33m\u001b[0m\u001b[1;33m\u001b[0m\u001b[0m\n\u001b[0m\u001b[0;32m    830\u001b[0m \u001b[1;33m\u001b[0m\u001b[0m\n\u001b[0;32m    831\u001b[0m     \u001b[1;32mdef\u001b[0m \u001b[0massertNotEqual\u001b[0m\u001b[1;33m(\u001b[0m\u001b[0mself\u001b[0m\u001b[1;33m,\u001b[0m \u001b[0mfirst\u001b[0m\u001b[1;33m,\u001b[0m \u001b[0msecond\u001b[0m\u001b[1;33m,\u001b[0m \u001b[0mmsg\u001b[0m\u001b[1;33m=\u001b[0m\u001b[1;32mNone\u001b[0m\u001b[1;33m)\u001b[0m\u001b[1;33m:\u001b[0m\u001b[1;33m\u001b[0m\u001b[1;33m\u001b[0m\u001b[0m\n",
      "\u001b[1;32m~\\anaconda3\\lib\\unittest\\case.py\u001b[0m in \u001b[0;36m_baseAssertEqual\u001b[1;34m(self, first, second, msg)\u001b[0m\n\u001b[0;32m    820\u001b[0m             \u001b[0mstandardMsg\u001b[0m \u001b[1;33m=\u001b[0m \u001b[1;34m'%s != %s'\u001b[0m \u001b[1;33m%\u001b[0m \u001b[0m_common_shorten_repr\u001b[0m\u001b[1;33m(\u001b[0m\u001b[0mfirst\u001b[0m\u001b[1;33m,\u001b[0m \u001b[0msecond\u001b[0m\u001b[1;33m)\u001b[0m\u001b[1;33m\u001b[0m\u001b[1;33m\u001b[0m\u001b[0m\n\u001b[0;32m    821\u001b[0m             \u001b[0mmsg\u001b[0m \u001b[1;33m=\u001b[0m \u001b[0mself\u001b[0m\u001b[1;33m.\u001b[0m\u001b[0m_formatMessage\u001b[0m\u001b[1;33m(\u001b[0m\u001b[0mmsg\u001b[0m\u001b[1;33m,\u001b[0m \u001b[0mstandardMsg\u001b[0m\u001b[1;33m)\u001b[0m\u001b[1;33m\u001b[0m\u001b[1;33m\u001b[0m\u001b[0m\n\u001b[1;32m--> 822\u001b[1;33m             \u001b[1;32mraise\u001b[0m \u001b[0mself\u001b[0m\u001b[1;33m.\u001b[0m\u001b[0mfailureException\u001b[0m\u001b[1;33m(\u001b[0m\u001b[0mmsg\u001b[0m\u001b[1;33m)\u001b[0m\u001b[1;33m\u001b[0m\u001b[1;33m\u001b[0m\u001b[0m\n\u001b[0m\u001b[0;32m    823\u001b[0m \u001b[1;33m\u001b[0m\u001b[0m\n\u001b[0;32m    824\u001b[0m     \u001b[1;32mdef\u001b[0m \u001b[0massertEqual\u001b[0m\u001b[1;33m(\u001b[0m\u001b[0mself\u001b[0m\u001b[1;33m,\u001b[0m \u001b[0mfirst\u001b[0m\u001b[1;33m,\u001b[0m \u001b[0msecond\u001b[0m\u001b[1;33m,\u001b[0m \u001b[0mmsg\u001b[0m\u001b[1;33m=\u001b[0m\u001b[1;32mNone\u001b[0m\u001b[1;33m)\u001b[0m\u001b[1;33m:\u001b[0m\u001b[1;33m\u001b[0m\u001b[1;33m\u001b[0m\u001b[0m\n",
      "\u001b[1;31mAssertionError\u001b[0m: 7 != 10"
     ]
    }
   ],
   "source": [
    "### This is the unittest cell, please just run this cell without any modification once you generated \"pg\" above\n",
    "\n",
    "cols = ['Cruising Speed (mph)', 'Range (miles)', 'Engines',\n",
    "        'Wingspan (ft)', 'Tail Height (ft)', 'Length (ft)']\n",
    "\n",
    "assert_is_instance(pg.fig, plt.Figure)\n",
    "assert_equal(set(pg.data.columns), set(cols))\n",
    "\n",
    "for ax in pg.diag_axes:\n",
    "    assert_equal(len(ax.patches), 10)\n",
    "\n",
    "for i, j in zip(*np.triu_indices_from(pg.axes, 1)):\n",
    "    ax = pg.axes[i, j]\n",
    "    x_in = df[cols[j]]\n",
    "    y_in = df[cols[i]]\n",
    "    x_out, y_out = ax.collections[0].get_offsets().T\n",
    "    assert_array_equal(x_in, x_out)\n",
    "    assert_array_equal(y_in, y_out)\n",
    "\n",
    "for i, j in zip(*np.tril_indices_from(pg.axes, -1)):\n",
    "    ax = pg.axes[i, j]\n",
    "    x_in = df[cols[j]]\n",
    "    y_in = df[cols[i]]\n",
    "    x_out, y_out = ax.collections[0].get_offsets().T\n",
    "    assert_array_equal(x_in, x_out)\n",
    "    assert_array_equal(y_in, y_out)\n",
    "\n",
    "for i, j in zip(*np.diag_indices_from(pg.axes)):\n",
    "    ax = pg.axes[i, j]\n",
    "    assert_equal(len(ax.collections), 0)"
   ]
  },
  {
   "cell_type": "markdown",
   "metadata": {},
   "source": [
    "#### Apply PCA\n",
    "\n",
    "Write a function named fit_pca() that takes a pandas.DataFrame and uses [sklearn.decomposition.PCA](http://scikit-learn.org/stable/modules/generated/sklearn.decomposition.PCA.html) to fit a PCA model on all values of df."
   ]
  },
  {
   "cell_type": "code",
   "execution_count": 681,
   "metadata": {},
   "outputs": [],
   "source": [
    "from sklearn.pipeline import make_pipeline\n",
    "def fit_pca(df, n_components):\n",
    "    '''\n",
    "    Uses sklearn.decomposition.PCA to fit a PCA model on \"df\".\n",
    "    \n",
    "    Parameters\n",
    "    ----------\n",
    "    df: A pandas.DataFrame. Comes from delta.csv.\n",
    "    n_components: An int. Number of principal components to keep.\n",
    "    \n",
    "    Returns\n",
    "    -------\n",
    "    An sklearn.decomposition.pca.PCA instance.\n",
    "    '''\n",
    "    \n",
    "    # YOUR CODE HERE\n",
    "    #scaler = StandardScaler()\n",
    "    #data = df.values\n",
    "    pca = PCA()\n",
    "    #pipeline = make_pipeline(scaler, pca)\n",
    "    pca.fit(df)\n",
    "    \n",
    "    return pca"
   ]
  },
  {
   "cell_type": "code",
   "execution_count": 682,
   "metadata": {},
   "outputs": [],
   "source": [
    "# we keep all components by setting n_components = no of cols in df. FYI df.shape[0] returns # of rows, len(df.columns) also works similar\n",
    "pca_naive = fit_pca(df, n_components=df.shape[1])"
   ]
  },
  {
   "cell_type": "code",
   "execution_count": 683,
   "metadata": {},
   "outputs": [],
   "source": [
    "assert_is_instance(pca_naive, PCA)\n",
    "assert_almost_equal(pca_naive.explained_variance_ratio_.sum(), 1.0, 3)\n",
    "assert_equal(pca_naive.n_components_, df.shape[1])\n",
    "assert_equal(pca_naive.whiten, False)"
   ]
  },
  {
   "cell_type": "code",
   "execution_count": 684,
   "metadata": {},
   "outputs": [],
   "source": [
    "def plot_naive_variance(pca):\n",
    "    '''\n",
    "    Plots the variance explained by each of the principal components.\n",
    "    Attributes are not scaled, hence a naive approach.\n",
    "    \n",
    "    Parameters\n",
    "    ----------\n",
    "    pca: An sklearn.decomposition.pca.PCA instance.\n",
    "    \n",
    "    Returns\n",
    "    -------\n",
    "    A matplotlib.Axes instance.\n",
    "    '''\n",
    "    \n",
    "    # YOUR CODE HERE\n",
    "    fig, ax = plt.subplots(figsize=(10,6))\n",
    "     \n",
    "   # Decorate the plot\n",
    "    ax.set_xlabel('Dimension #')\n",
    "    ax.set_ylabel('Explained Variance Ratio')\n",
    "    ax.set_title('Fraction of Explained Variance')\n",
    "    ax.plot(pca.explained_variance_ratio_)\n",
    "\n",
    "    return ax"
   ]
  },
  {
   "cell_type": "code",
   "execution_count": 685,
   "metadata": {},
   "outputs": [
    {
     "data": {
      "image/png": "[encoded data removed]",
      "text/plain": [
       "<Figure size 720x432 with 1 Axes>"
      ]
     },
     "metadata": {
      "needs_background": "light"
     },
     "output_type": "display_data"
    }
   ],
   "source": [
    "naive_var = plot_naive_variance(pca_naive)"
   ]
  },
  {
   "cell_type": "code",
   "execution_count": 686,
   "metadata": {},
   "outputs": [],
   "source": [
    "assert_is_instance(naive_var, mpl.axes.Axes)\n",
    "assert_equal(len(naive_var.lines), 1)\n",
    "\n",
    "assert_is_not(len(naive_var.title.get_text()), 0,\n",
    "    msg=\"Your plot doesn't have a title.\")\n",
    "assert_is_not(naive_var.xaxis.get_label_text(), '',\n",
    "    msg=\"Change the x-axis label to something more descriptive.\")\n",
    "assert_is_not(naive_var.yaxis.get_label_text(), '',\n",
    "    msg=\"Change the y-axis label to something more descriptive.\")\n",
    "\n",
    "xdata, ydata = naive_var.lines[0].get_xydata().T\n",
    "assert_array_equal(xdata, list(range(df.shape[1])))\n",
    "assert_array_almost_equal(ydata, pca_naive.explained_variance_ratio_)"
   ]
  },
  {
   "cell_type": "code",
   "execution_count": 687,
   "metadata": {},
   "outputs": [
    {
     "name": "stdout",
     "output_type": "stream",
     "text": [
      "\"Range (miles)\" accounts for 0.999 % of the variance.\n"
     ]
    }
   ],
   "source": [
    "abs_val = np.abs(pca_naive.components_[0])\n",
    "max_pos = abs_val.argmax()\n",
    "max_val = abs_val.max()\n",
    "\n",
    "print('\"{0}\" accounts for {1:0.3f} % of the variance.'.format(df.columns[max_pos], max_val))"
   ]
  },
  {
   "cell_type": "markdown",
   "metadata": {},
   "source": [
    "Taking this naive approach, we can see that the first principal component accounts for 99.9% of the variance in the data. (Note the y-axis is on a log scale.) Looking more closely, can we see that the first principle component is just the range in miles? This is because the scale of the different variables in the data set is quite variable."
   ]
  },
  {
   "cell_type": "markdown",
   "metadata": {},
   "source": [
    "PCA is a scale-dependent method. For example, if the range of one column is [-100, 100], while the that of another column is [-0.1, 0.1], PCA will place more weight on the feature with larger values. One way to avoid this is to standardize a data set by scaling each feature so that the individual features all look like Gausssian distributions with zero mean and unit variance. \n"
   ]
  },
  {
   "cell_type": "code",
   "execution_count": 688,
   "metadata": {},
   "outputs": [],
   "source": [
    "def standardize(df):\n",
    "    '''\n",
    "    Uses sklearn.preprocessing.StandardScaler to make each features look like\n",
    "    a Gaussian with zero mean and unit variance.\n",
    "    \n",
    "    Parameters\n",
    "    ----------\n",
    "    df: A pandas.DataFrame\n",
    "    \n",
    "    Returns\n",
    "    -------\n",
    "    A numpy array.\n",
    "    '''\n",
    "    \n",
    "    # YOUR CODE HERE\n",
    "    #data = df.values\n",
    "    #pca = PCA()\n",
    "    #pipeline = make_pipeline(scaler, pca)\n",
    "    #pipeline.fit(df)\n",
    "    scaler = StandardScaler()\n",
    "    scaled = scaler.fit_transform(df)\n",
    "    return scaled"
   ]
  },
  {
   "cell_type": "code",
   "execution_count": 704,
   "metadata": {},
   "outputs": [
    {
     "data": {
      "text/plain": [
       "array([[-0.15249857, -0.15249857, -0.15249857, ..., -0.79349205,\n",
       "         0.35805744,  0.15249857],\n",
       "       [ 6.55743852,  6.55743852,  6.55743852, ...,  1.26025208,\n",
       "        -2.79284801, -6.55743852],\n",
       "       [-0.15249857, -0.15249857, -0.15249857, ..., -0.79349205,\n",
       "         0.35805744,  0.15249857],\n",
       "       ...,\n",
       "       [-0.15249857, -0.15249857, -0.15249857, ..., -0.79349205,\n",
       "         0.35805744,  0.15249857],\n",
       "       [-0.15249857, -0.15249857, -0.15249857, ..., -0.79349205,\n",
       "         0.35805744,  0.15249857],\n",
       "       [-0.15249857, -0.15249857, -0.15249857, ..., -0.79349205,\n",
       "         0.35805744,  0.15249857]])"
      ]
     },
     "execution_count": 704,
     "metadata": {},
     "output_type": "execute_result"
    }
   ],
   "source": [
    "scaled = standardize(df)\n",
    "scaled"
   ]
  },
  {
   "cell_type": "code",
   "execution_count": 707,
   "metadata": {},
   "outputs": [],
   "source": [
    "rng = np.random.RandomState(0)\n",
    "n_samples, n_features = 4, 5\n",
    "\n",
    "df_t1 = pd.DataFrame(\n",
    "    rng.randn(n_samples, n_features),\n",
    "    index=[i for i in 'abcd'],\n",
    "    columns=[c for c  in 'abcde']\n",
    "    )\n",
    "df_t1.loc[:, 'a'] = 0.0  # make first feature zero\n",
    "\n",
    "scaled_t1 = standardize(df_t1)\n",
    "\n",
    "assert_is_not(df_t1, scaled_t1)\n",
    "assert_is_instance(scaled_t1, np.ndarray)\n",
    "assert_array_almost_equal(\n",
    "    scaled_t1.mean(axis=0),\n",
    "    n_features * [0.0] # scaled data should have mean zero\n",
    "    ) \n",
    "assert_array_almost_equal(\n",
    "    scaled_t1.std(axis=0),\n",
    "    [0., 1., 1., 1., 1.] # unit variance except for 1st feature\n",
    "    )"
   ]
  },
  {
   "cell_type": "code",
   "execution_count": 708,
   "metadata": {},
   "outputs": [],
   "source": [
    "# we keep only 10 components\n",
    "n_components = 10\n",
    "#pca = pca.transform(scaled)\n",
    "#pca = fit_pca(scaled, n_components=n_components)\n",
    "\n",
    "pca = PCA(n_components)\n",
    "pca = pca.fit(scaled)"
   ]
  },
  {
   "cell_type": "markdown",
   "metadata": {},
   "source": [
    "Let's take another look to the explained variance of the first 10 principal components from the scaled data."
   ]
  },
  {
   "cell_type": "code",
   "execution_count": 709,
   "metadata": {},
   "outputs": [],
   "source": [
    "def plot_scaled_variance(pca):\n",
    "    '''\n",
    "    Plots the variance explained by each of the principal components.\n",
    "    Features are scaled with sklearn.StandardScaler.\n",
    "    \n",
    "    Parameters\n",
    "    ----------\n",
    "    pca: An sklearn.decomposition.pca.PCA instance.\n",
    "    \n",
    "    Returns\n",
    "    -------\n",
    "    A matplotlib.Axes instance.\n",
    "    '''\n",
    "    \n",
    "    # YOUR CODE HERE\n",
    "    # YOUR CODE HERE\n",
    "    fig, ax = plt.subplots(figsize=(10,6))\n",
    "\n",
    "   # Decorate the plot\n",
    "    ax.set_xlabel('Dimension #')\n",
    "    ax.set_ylabel('Explained Variance Ratio')\n",
    "    ax.set_title('Fraction of Explained Variance')\n",
    "    ax.plot(pca.explained_variance_ratio_)\n",
    "\n",
    "    return ax\n",
    "    \n",
    "    "
   ]
  },
  {
   "cell_type": "code",
   "execution_count": 710,
   "metadata": {},
   "outputs": [
    {
     "data": {
      "image/png": "[encoded data removed]",
      "text/plain": [
       "<Figure size 720x432 with 1 Axes>"
      ]
     },
     "metadata": {
      "needs_background": "light"
     },
     "output_type": "display_data"
    }
   ],
   "source": [
    "ax = plot_scaled_variance(pca)"
   ]
  },
  {
   "cell_type": "code",
   "execution_count": 711,
   "metadata": {},
   "outputs": [],
   "source": [
    "assert_is_instance(ax, mpl.axes.Axes)\n",
    "assert_equal(len(ax.lines), 1)\n",
    "\n",
    "assert_is_not(len(ax.title.get_text()), 0, msg=\"Your plot doesn't have a title.\")\n",
    "assert_is_not(ax.xaxis.get_label_text(), '', msg=\"Change the x-axis label to something more descriptive.\")\n",
    "assert_is_not(ax.yaxis.get_label_text(), '', msg=\"Change the y-axis label to something more descriptive.\")\n",
    "\n",
    "xdata, ydata = ax.lines[0].get_xydata().T\n",
    "assert_array_equal(xdata, list(range(n_components)))\n",
    "assert_array_almost_equal(ydata, pca.explained_variance_ratio_)"
   ]
  },
  {
   "cell_type": "markdown",
   "metadata": {},
   "source": [
    "Nice, it looks good to go. There are various rules of thumb for selecting the number of principal components to retain in an analysis of this type, one of which I’ve experienced about is:\n",
    "\n",
    "Pick the number of components which explain 85% or greater of the variation.\n",
    "So, we will keep the first 4 principal components (remember that we are counting from zero, so we are keeping 0th, 1st, 2nd, and 3rd components—four components). Later in this assignment, we will use these four components to fit a $k$-means model. Before we move on to the next problem, let's apply the dimensional reduction on the scaled data. (In the previous sections, we didn't actually have to apply  transform(). This step is to make sure that the scaled data is actually \"transformed\".)\n",
    "\n",
    "Write a function named reduce() that takes a PCA model (that is already trained on array) and a Numpy array, and applies dimensional reduction on the array."
   ]
  },
  {
   "cell_type": "code",
   "execution_count": 712,
   "metadata": {},
   "outputs": [],
   "source": [
    "def reduce(pca, array):\n",
    "    '''\n",
    "    Applies the `pca` model on array.\n",
    "    \n",
    "    Parameters\n",
    "    ----------\n",
    "    pca: An sklearn.decomposition.PCA instance.\n",
    "    \n",
    "    Returns\n",
    "    -------\n",
    "    A Numpy array\n",
    "    '''\n",
    "    \n",
    "    # YOUR CODE HERE\n",
    "    \n",
    "    pca = pca.fit(scaled)\n",
    "    reduce = pca.transform(array)\n",
    "    return reduce"
   ]
  },
  {
   "cell_type": "code",
   "execution_count": 713,
   "metadata": {},
   "outputs": [
    {
     "data": {
      "text/plain": [
       "array([[-2.65602062e+00, -1.38241098e+00, -6.04632297e-01,\n",
       "         9.37261785e-01, -8.33086491e-01, -1.61945768e-01,\n",
       "         1.54809554e-01, -2.62093027e-02, -2.78241107e-01,\n",
       "        -2.42455888e-01],\n",
       "       [-6.76662241e+00,  1.67437341e+01, -4.63409931e+00,\n",
       "         8.00519882e-02, -1.73566992e-01, -1.22511528e-01,\n",
       "         5.50792251e-03,  1.52931600e-01, -2.50150278e-02,\n",
       "         7.03546481e-02],\n",
       "       [-2.39665376e+00, -1.48769205e+00, -7.07970613e-01,\n",
       "         9.69812669e-01, -7.01819052e-01,  5.67877879e-02,\n",
       "         8.21780243e-02,  4.35736383e-02, -5.57340857e-01,\n",
       "        -8.56469674e-02],\n",
       "       [-2.39665376e+00, -1.48769205e+00, -7.07970613e-01,\n",
       "         9.69812669e-01, -7.01819052e-01,  5.67877879e-02,\n",
       "         8.21780243e-02,  4.35736383e-02, -5.57340857e-01,\n",
       "        -8.56469674e-02],\n",
       "       [ 4.86238710e+00,  9.51891957e-01,  6.19606386e-01,\n",
       "         6.79015562e-01,  2.10635133e-01, -7.75235342e-01,\n",
       "        -9.55583047e-01, -1.35180102e-01,  3.83776824e-02,\n",
       "         1.74469017e-01],\n",
       "       [ 4.83565871e+00,  9.82178867e-01,  5.84932581e-01,\n",
       "        -1.60988502e+00, -1.59565401e+00,  7.05253623e-01,\n",
       "         6.96404031e-01, -3.39816160e-01, -4.59013974e-01,\n",
       "        -1.43881922e-02],\n",
       "       [ 5.32249197e+00,  9.29380782e-01,  4.50331906e-01,\n",
       "         7.93325426e-01,  4.05473036e-01, -5.05964009e-01,\n",
       "        -9.05826105e-01,  1.85133924e-01, -6.22420413e-01,\n",
       "         5.18550947e-01],\n",
       "       [ 5.01820140e+00,  7.25625519e-01,  3.20056936e-01,\n",
       "        -1.55838450e+00, -1.20350227e+00,  1.25184369e+00,\n",
       "         6.74960149e-01, -1.03042669e-01, -1.17514905e+00,\n",
       "         4.89030550e-01],\n",
       "       [-2.75277148e+00, -1.59337690e+00, -3.15267982e-01,\n",
       "         2.25287584e-01, -5.68519392e-01, -7.88329981e-01,\n",
       "         5.20195012e-01,  1.07735595e+00,  6.30570912e-01,\n",
       "         9.64504644e-01],\n",
       "       [-1.81248565e+00, -1.37089747e+00, -1.50948948e+00,\n",
       "        -1.45690296e+00,  1.61535373e+00, -1.41818729e+00,\n",
       "         7.25098252e-01, -4.26127258e-01,  7.43837378e-01,\n",
       "        -3.70731090e-01],\n",
       "       [-1.73852068e+00, -1.42505942e+00, -1.69772737e+00,\n",
       "        -1.48115664e+00,  1.75803830e+00, -1.17171618e+00,\n",
       "         6.04477823e-01, -3.81609663e-01,  6.07720149e-01,\n",
       "        -2.67402818e-01],\n",
       "       [-1.52789924e+00, -1.44392426e+00, -1.83656532e+00,\n",
       "        -1.44531241e+00,  1.82830532e+00, -9.85890797e-01,\n",
       "         5.24978496e-01, -3.04838428e-01,  4.00628921e-01,\n",
       "        -9.60114824e-02],\n",
       "       [-1.29121953e+00, -1.30988934e+00, -1.66169270e+00,\n",
       "        -3.03245907e-01,  2.92089408e-01,  1.84207240e-01,\n",
       "        -2.56360895e-01,  3.27167336e-01,  4.25792230e-01,\n",
       "         2.01617885e-01],\n",
       "       [ 7.48642811e+00,  1.25602194e+00, -5.01775406e-01,\n",
       "         3.90125704e+00,  2.75023300e+00,  2.74609493e+00,\n",
       "         3.19109278e+00,  7.11159809e-01,  6.39489776e-01,\n",
       "        -3.86595439e-01],\n",
       "       [-1.08764186e+00, -1.09477399e+00, -1.29735793e+00,\n",
       "         2.89021868e-01, -5.00578936e-02,  1.33034062e+00,\n",
       "        -1.44150356e+00, -6.66551973e-01,  4.75373083e-01,\n",
       "        -8.63382762e-01],\n",
       "       [ 2.34887753e+00,  6.14935818e-01,  8.69559318e-01,\n",
       "        -1.92444570e+00, -1.81065595e+00, -3.20460755e-01,\n",
       "         1.66386090e+00,  3.13536067e-01, -2.88173919e-01,\n",
       "        -4.05046218e-01],\n",
       "       [-1.85593613e+00, -1.48448531e+00, -1.40099603e+00,\n",
       "         9.18178074e-01, -4.40686512e-01,  7.65719681e-01,\n",
       "        -4.70958496e-01,  7.74676987e-02, -8.90786978e-01,\n",
       "         2.36165483e-01],\n",
       "       [-1.82794271e+00, -1.51539235e+00, -1.38847776e+00,\n",
       "         9.12906650e-01, -4.28922730e-01,  7.82962324e-01,\n",
       "        -4.78907295e-01,  7.46174518e-02, -8.93972802e-01,\n",
       "         2.32801414e-01],\n",
       "       [-1.87115431e+00, -1.37831398e+00, -1.54499739e+00,\n",
       "         2.74074739e-01, -8.49010286e-02,  6.16157323e-01,\n",
       "        -6.10664724e-01, -3.05701128e-01, -9.06278810e-02,\n",
       "        -1.09478681e+00],\n",
       "       [-1.41875952e+00, -1.38361245e+00, -1.82979068e+00,\n",
       "         3.06860799e-01, -7.90157047e-02,  8.32814388e-01,\n",
       "        -8.55157676e-01, -3.41466136e-01, -2.06964780e-01,\n",
       "        -9.48461751e-01],\n",
       "       [ 2.00738857e+00,  2.60169814e-01,  4.30141150e-01,\n",
       "        -1.63366585e+00,  1.25829381e+00, -2.20842609e+00,\n",
       "         1.49514714e+00, -1.49507042e-01, -7.63609565e-01,\n",
       "        -5.38423779e-01],\n",
       "       [-9.98529231e-01, -1.37966581e+00, -2.02988221e+00,\n",
       "         3.37615422e-01,  2.10716523e-01,  1.22668182e+00,\n",
       "        -9.08472925e-01, -1.49150202e-01, -8.75382442e-01,\n",
       "        -6.49478617e-01],\n",
       "       [ 3.98963838e+00,  7.14611298e-01,  9.67005130e-01,\n",
       "        -1.83385468e+00, -1.69182387e+00,  5.23331698e-01,\n",
       "         7.57921254e-01,  3.92431332e-02,  1.36872663e-01,\n",
       "        -3.30187865e-01],\n",
       "       [ 4.32444761e+00,  9.98750729e-01,  1.16700042e+00,\n",
       "         5.79951044e-01, -5.76173652e-02, -1.27922228e+00,\n",
       "        -7.94891162e-01,  3.32624558e-01,  5.66404003e-01,\n",
       "        -2.48983193e-01],\n",
       "       [ 7.04495445e-02, -1.72464315e+00, -3.02971445e+00,\n",
       "        -1.52101451e+00,  2.47263605e+00,  4.33001650e-01,\n",
       "        -3.79455415e-01, -1.11604104e-01, -6.47619236e-01,\n",
       "         4.95636444e-01],\n",
       "       [ 7.04495445e-02, -1.72464315e+00, -3.02971445e+00,\n",
       "        -1.52101451e+00,  2.47263605e+00,  4.33001650e-01,\n",
       "        -3.79455415e-01, -1.11604104e-01, -6.47619236e-01,\n",
       "         4.95636444e-01],\n",
       "       [ 4.27181851e+00,  1.02129119e+00,  1.20512219e+00,\n",
       "         5.87634011e-01, -6.38394179e-02, -1.29699022e+00,\n",
       "        -8.09979910e-01,  2.96932597e-01,  5.95741552e-01,\n",
       "        -2.42139214e-01],\n",
       "       [ 1.31508875e+00, -7.17228237e-01, -1.81815398e+00,\n",
       "        -2.30775090e+00, -1.17593183e+00,  2.90484998e+00,\n",
       "        -1.02353725e+00, -1.61338227e-01,  2.23267986e+00,\n",
       "         5.05257394e-01],\n",
       "       [ 4.38036590e+00,  8.66358762e-01,  1.00995193e+00,\n",
       "         5.20453447e-01,  7.79760721e-02, -1.03918248e+00,\n",
       "        -8.36901778e-01,  3.96774976e-01,  3.65242453e-01,\n",
       "        -1.51586850e-01],\n",
       "       [ 4.05796910e+00,  8.10121545e-01,  1.00799504e+00,\n",
       "        -1.78661206e+00, -1.61826559e+00,  5.53402783e-01,\n",
       "         7.84707678e-01,  1.17058181e-01, -1.90708505e-01,\n",
       "        -1.98368556e-01],\n",
       "       [ 4.80064909e+00,  1.01359277e+00,  9.49425757e-01,\n",
       "         6.64213022e-01,  1.63689241e-01, -9.43450192e-01,\n",
       "        -9.48552460e-01,  4.07327563e-01,  2.61975435e-02,\n",
       "         4.33045282e-02],\n",
       "       [ 6.02443179e+00,  1.00420305e+00,  2.55767135e-01,\n",
       "         1.00080358e+00,  8.81309525e-02, -7.17087418e-01,\n",
       "        -1.01035882e+00, -6.69160183e-01, -3.65497731e-02,\n",
       "         3.29378725e-01],\n",
       "       [ 6.21364874e+00,  1.07948010e+00,  2.47223038e-01,\n",
       "         9.99226475e-01,  7.90586040e-02, -6.62625885e-01,\n",
       "        -1.16253119e+00, -8.11071604e-01,  1.49128181e-01,\n",
       "         2.27422076e-01],\n",
       "       [-4.18895615e+00,  1.21788816e+00,  5.66800621e+00,\n",
       "        -3.59492816e-02,  9.13959162e-01,  6.92077471e-01,\n",
       "         4.69532212e-02, -9.50468682e-01, -5.04893724e-02,\n",
       "         4.17671193e-01],\n",
       "       [-4.18895615e+00,  1.21788816e+00,  5.66800621e+00,\n",
       "        -3.59492816e-02,  9.13959162e-01,  6.92077471e-01,\n",
       "         4.69532212e-02, -9.50468682e-01, -5.04893724e-02,\n",
       "         4.17671193e-01],\n",
       "       [-3.78761677e+00, -1.37492806e+00,  2.03613072e-01,\n",
       "         9.55739133e-01, -1.20916901e+00, -8.91871410e-01,\n",
       "         6.12060764e-01,  2.85843187e-02,  3.52977656e-01,\n",
       "        -3.30789158e-01],\n",
       "       [-3.57588486e+00, -1.40978845e+00, -3.27957970e-02,\n",
       "         9.38218762e-01, -1.14707374e+00, -6.62420278e-01,\n",
       "         4.57899546e-01,  8.26624788e-02,  2.84229486e-01,\n",
       "        -2.31258924e-01],\n",
       "       [-5.07422448e+00,  1.15113174e+00,  6.88986819e+00,\n",
       "        -1.24250510e+00,  1.34208623e+00,  7.22207068e-01,\n",
       "        -1.10489992e+00,  2.60511573e+00, -7.43703987e-02,\n",
       "        -1.14674897e+00],\n",
       "       [-3.33573201e+00, -1.51745569e+00, -2.17925221e-01,\n",
       "         1.19949145e+00, -1.34210724e+00, -9.12164304e-01,\n",
       "         7.97688584e-01, -8.85551708e-01,  4.20975621e-01,\n",
       "        -1.11211833e-01],\n",
       "       [-3.30818027e+00, -1.53685068e+00, -3.42035105e-01,\n",
       "         1.18322639e+00, -1.29006990e+00, -7.66785224e-01,\n",
       "         6.99141631e-01, -8.58295041e-01,  3.88703933e-01,\n",
       "        -3.27514714e-02],\n",
       "       [-3.95581301e+00,  1.22350581e+00,  5.38520114e+00,\n",
       "         2.38918482e-01,  7.88454272e-01,  6.74163097e-01,\n",
       "         2.85241261e-01, -1.80638544e+00,  1.72361822e-03,\n",
       "         7.63262315e-01],\n",
       "       [-2.27379454e+00, -1.71233975e+00, -6.47933972e-01,\n",
       "         1.89353757e-01, -2.80553350e-01, -2.38340149e-01,\n",
       "         1.64900942e-01,  1.35962647e+00,  1.24784492e-01,\n",
       "         1.24286427e+00],\n",
       "       [-2.12224883e+00, -1.67948094e+00, -7.30091449e-01,\n",
       "         2.04938506e-01, -2.30100765e-01, -1.34651899e-01,\n",
       "         1.03519380e-01,  1.36231944e+00,  4.76147761e-02,\n",
       "         1.28406129e+00],\n",
       "       [-3.19017238e+00, -1.64821759e+00, -3.81756205e-01,\n",
       "         8.40998980e-01, -8.62964904e-01, -1.80304609e-01,\n",
       "         1.56122449e-01,  6.10361279e-01, -2.73180423e-01,\n",
       "        -3.71756429e-02]])"
      ]
     },
     "execution_count": 713,
     "metadata": {},
     "output_type": "execute_result"
    }
   ],
   "source": [
    "reduced = reduce(pca, scaled)\n",
    "reduced"
   ]
  },
  {
   "cell_type": "code",
   "execution_count": 714,
   "metadata": {},
   "outputs": [],
   "source": [
    "assert_is_instance(reduced, np.ndarray)\n",
    "assert_array_almost_equal(reduced, pca.fit_transform(scaled))"
   ]
  },
  {
   "cell_type": "code",
   "execution_count": 715,
   "metadata": {},
   "outputs": [],
   "source": [
    "# Save the reduced data to the same directory of your notebook  as 'delta_reeuced.npy' that we will use later on\n",
    "np.save('delta_reduced.npy', reduced)"
   ]
  },
  {
   "cell_type": "markdown",
   "metadata": {},
   "source": [
    "### Problem 2. Clustering\n",
    "\n",
    "We will use the first 10 principal components of the Delta Airline data set that we created in the first step.\n"
   ]
  },
  {
   "cell_type": "code",
   "execution_count": 716,
   "metadata": {},
   "outputs": [],
   "source": [
    "##Standard imports just in case\n",
    "\n",
    "%matplotlib inline\n",
    "\n",
    "import numpy as np\n",
    "import pandas as pd\n",
    "import seaborn as sns\n",
    "import matplotlib as mpl\n",
    "import matplotlib.pyplot as plt\n",
    "import sklearn\n",
    "\n",
    "from sklearn.utils import check_random_state\n",
    "from sklearn.cluster import KMeans\n",
    "\n",
    "from nose.tools import assert_equal, assert_is_instance, assert_true, assert_is_not\n",
    "from numpy.testing import assert_array_equal, assert_array_almost_equal, assert_almost_equal"
   ]
  },
  {
   "cell_type": "code",
   "execution_count": 717,
   "metadata": {},
   "outputs": [
    {
     "data": {
      "text/plain": [
       "array([[-2.65602062e+00, -1.38241098e+00, -6.04632297e-01,\n",
       "         9.37261785e-01, -8.33086491e-01, -1.61945768e-01,\n",
       "         1.54809554e-01, -2.62093027e-02, -2.78241107e-01,\n",
       "        -2.42455888e-01],\n",
       "       [-6.76662241e+00,  1.67437341e+01, -4.63409931e+00,\n",
       "         8.00519882e-02, -1.73566992e-01, -1.22511528e-01,\n",
       "         5.50792251e-03,  1.52931600e-01, -2.50150278e-02,\n",
       "         7.03546481e-02],\n",
       "       [-2.39665376e+00, -1.48769205e+00, -7.07970613e-01,\n",
       "         9.69812669e-01, -7.01819052e-01,  5.67877879e-02,\n",
       "         8.21780243e-02,  4.35736383e-02, -5.57340857e-01,\n",
       "        -8.56469674e-02],\n",
       "       [-2.39665376e+00, -1.48769205e+00, -7.07970613e-01,\n",
       "         9.69812669e-01, -7.01819052e-01,  5.67877879e-02,\n",
       "         8.21780243e-02,  4.35736383e-02, -5.57340857e-01,\n",
       "        -8.56469674e-02],\n",
       "       [ 4.86238710e+00,  9.51891957e-01,  6.19606386e-01,\n",
       "         6.79015562e-01,  2.10635133e-01, -7.75235342e-01,\n",
       "        -9.55583047e-01, -1.35180102e-01,  3.83776824e-02,\n",
       "         1.74469017e-01],\n",
       "       [ 4.83565871e+00,  9.82178867e-01,  5.84932581e-01,\n",
       "        -1.60988502e+00, -1.59565401e+00,  7.05253623e-01,\n",
       "         6.96404031e-01, -3.39816160e-01, -4.59013974e-01,\n",
       "        -1.43881922e-02],\n",
       "       [ 5.32249197e+00,  9.29380782e-01,  4.50331906e-01,\n",
       "         7.93325426e-01,  4.05473036e-01, -5.05964009e-01,\n",
       "        -9.05826105e-01,  1.85133924e-01, -6.22420413e-01,\n",
       "         5.18550947e-01],\n",
       "       [ 5.01820140e+00,  7.25625519e-01,  3.20056936e-01,\n",
       "        -1.55838450e+00, -1.20350227e+00,  1.25184369e+00,\n",
       "         6.74960149e-01, -1.03042669e-01, -1.17514905e+00,\n",
       "         4.89030550e-01],\n",
       "       [-2.75277148e+00, -1.59337690e+00, -3.15267982e-01,\n",
       "         2.25287584e-01, -5.68519392e-01, -7.88329981e-01,\n",
       "         5.20195012e-01,  1.07735595e+00,  6.30570912e-01,\n",
       "         9.64504644e-01],\n",
       "       [-1.81248565e+00, -1.37089747e+00, -1.50948948e+00,\n",
       "        -1.45690296e+00,  1.61535373e+00, -1.41818729e+00,\n",
       "         7.25098252e-01, -4.26127258e-01,  7.43837378e-01,\n",
       "        -3.70731090e-01],\n",
       "       [-1.73852068e+00, -1.42505942e+00, -1.69772737e+00,\n",
       "        -1.48115664e+00,  1.75803830e+00, -1.17171618e+00,\n",
       "         6.04477823e-01, -3.81609663e-01,  6.07720149e-01,\n",
       "        -2.67402818e-01],\n",
       "       [-1.52789924e+00, -1.44392426e+00, -1.83656532e+00,\n",
       "        -1.44531241e+00,  1.82830532e+00, -9.85890797e-01,\n",
       "         5.24978496e-01, -3.04838428e-01,  4.00628921e-01,\n",
       "        -9.60114824e-02],\n",
       "       [-1.29121953e+00, -1.30988934e+00, -1.66169270e+00,\n",
       "        -3.03245907e-01,  2.92089408e-01,  1.84207240e-01,\n",
       "        -2.56360895e-01,  3.27167336e-01,  4.25792230e-01,\n",
       "         2.01617885e-01],\n",
       "       [ 7.48642811e+00,  1.25602194e+00, -5.01775406e-01,\n",
       "         3.90125704e+00,  2.75023300e+00,  2.74609493e+00,\n",
       "         3.19109278e+00,  7.11159809e-01,  6.39489776e-01,\n",
       "        -3.86595439e-01],\n",
       "       [-1.08764186e+00, -1.09477399e+00, -1.29735793e+00,\n",
       "         2.89021868e-01, -5.00578936e-02,  1.33034062e+00,\n",
       "        -1.44150356e+00, -6.66551973e-01,  4.75373083e-01,\n",
       "        -8.63382762e-01],\n",
       "       [ 2.34887753e+00,  6.14935818e-01,  8.69559318e-01,\n",
       "        -1.92444570e+00, -1.81065595e+00, -3.20460755e-01,\n",
       "         1.66386090e+00,  3.13536067e-01, -2.88173919e-01,\n",
       "        -4.05046218e-01],\n",
       "       [-1.85593613e+00, -1.48448531e+00, -1.40099603e+00,\n",
       "         9.18178074e-01, -4.40686512e-01,  7.65719681e-01,\n",
       "        -4.70958496e-01,  7.74676987e-02, -8.90786978e-01,\n",
       "         2.36165483e-01],\n",
       "       [-1.82794271e+00, -1.51539235e+00, -1.38847776e+00,\n",
       "         9.12906650e-01, -4.28922730e-01,  7.82962324e-01,\n",
       "        -4.78907295e-01,  7.46174518e-02, -8.93972802e-01,\n",
       "         2.32801414e-01],\n",
       "       [-1.87115431e+00, -1.37831398e+00, -1.54499739e+00,\n",
       "         2.74074739e-01, -8.49010286e-02,  6.16157323e-01,\n",
       "        -6.10664724e-01, -3.05701128e-01, -9.06278810e-02,\n",
       "        -1.09478681e+00],\n",
       "       [-1.41875952e+00, -1.38361245e+00, -1.82979068e+00,\n",
       "         3.06860799e-01, -7.90157047e-02,  8.32814388e-01,\n",
       "        -8.55157676e-01, -3.41466136e-01, -2.06964780e-01,\n",
       "        -9.48461751e-01],\n",
       "       [ 2.00738857e+00,  2.60169814e-01,  4.30141150e-01,\n",
       "        -1.63366585e+00,  1.25829381e+00, -2.20842609e+00,\n",
       "         1.49514714e+00, -1.49507042e-01, -7.63609565e-01,\n",
       "        -5.38423779e-01],\n",
       "       [-9.98529231e-01, -1.37966581e+00, -2.02988221e+00,\n",
       "         3.37615422e-01,  2.10716523e-01,  1.22668182e+00,\n",
       "        -9.08472925e-01, -1.49150202e-01, -8.75382442e-01,\n",
       "        -6.49478617e-01],\n",
       "       [ 3.98963838e+00,  7.14611298e-01,  9.67005130e-01,\n",
       "        -1.83385468e+00, -1.69182387e+00,  5.23331698e-01,\n",
       "         7.57921254e-01,  3.92431332e-02,  1.36872663e-01,\n",
       "        -3.30187865e-01],\n",
       "       [ 4.32444761e+00,  9.98750729e-01,  1.16700042e+00,\n",
       "         5.79951044e-01, -5.76173652e-02, -1.27922228e+00,\n",
       "        -7.94891162e-01,  3.32624558e-01,  5.66404003e-01,\n",
       "        -2.48983193e-01],\n",
       "       [ 7.04495445e-02, -1.72464315e+00, -3.02971445e+00,\n",
       "        -1.52101451e+00,  2.47263605e+00,  4.33001650e-01,\n",
       "        -3.79455415e-01, -1.11604104e-01, -6.47619236e-01,\n",
       "         4.95636444e-01],\n",
       "       [ 7.04495445e-02, -1.72464315e+00, -3.02971445e+00,\n",
       "        -1.52101451e+00,  2.47263605e+00,  4.33001650e-01,\n",
       "        -3.79455415e-01, -1.11604104e-01, -6.47619236e-01,\n",
       "         4.95636444e-01],\n",
       "       [ 4.27181851e+00,  1.02129119e+00,  1.20512219e+00,\n",
       "         5.87634011e-01, -6.38394179e-02, -1.29699022e+00,\n",
       "        -8.09979910e-01,  2.96932597e-01,  5.95741552e-01,\n",
       "        -2.42139214e-01],\n",
       "       [ 1.31508875e+00, -7.17228237e-01, -1.81815398e+00,\n",
       "        -2.30775090e+00, -1.17593183e+00,  2.90484998e+00,\n",
       "        -1.02353725e+00, -1.61338227e-01,  2.23267986e+00,\n",
       "         5.05257394e-01],\n",
       "       [ 4.38036590e+00,  8.66358762e-01,  1.00995193e+00,\n",
       "         5.20453447e-01,  7.79760721e-02, -1.03918248e+00,\n",
       "        -8.36901778e-01,  3.96774976e-01,  3.65242453e-01,\n",
       "        -1.51586850e-01],\n",
       "       [ 4.05796910e+00,  8.10121545e-01,  1.00799504e+00,\n",
       "        -1.78661206e+00, -1.61826559e+00,  5.53402783e-01,\n",
       "         7.84707678e-01,  1.17058181e-01, -1.90708505e-01,\n",
       "        -1.98368556e-01],\n",
       "       [ 4.80064909e+00,  1.01359277e+00,  9.49425757e-01,\n",
       "         6.64213022e-01,  1.63689241e-01, -9.43450192e-01,\n",
       "        -9.48552460e-01,  4.07327563e-01,  2.61975435e-02,\n",
       "         4.33045282e-02],\n",
       "       [ 6.02443179e+00,  1.00420305e+00,  2.55767135e-01,\n",
       "         1.00080358e+00,  8.81309525e-02, -7.17087418e-01,\n",
       "        -1.01035882e+00, -6.69160183e-01, -3.65497731e-02,\n",
       "         3.29378725e-01],\n",
       "       [ 6.21364874e+00,  1.07948010e+00,  2.47223038e-01,\n",
       "         9.99226475e-01,  7.90586040e-02, -6.62625885e-01,\n",
       "        -1.16253119e+00, -8.11071604e-01,  1.49128181e-01,\n",
       "         2.27422076e-01],\n",
       "       [-4.18895615e+00,  1.21788816e+00,  5.66800621e+00,\n",
       "        -3.59492816e-02,  9.13959162e-01,  6.92077471e-01,\n",
       "         4.69532212e-02, -9.50468682e-01, -5.04893724e-02,\n",
       "         4.17671193e-01],\n",
       "       [-4.18895615e+00,  1.21788816e+00,  5.66800621e+00,\n",
       "        -3.59492816e-02,  9.13959162e-01,  6.92077471e-01,\n",
       "         4.69532212e-02, -9.50468682e-01, -5.04893724e-02,\n",
       "         4.17671193e-01],\n",
       "       [-3.78761677e+00, -1.37492806e+00,  2.03613072e-01,\n",
       "         9.55739133e-01, -1.20916901e+00, -8.91871410e-01,\n",
       "         6.12060764e-01,  2.85843187e-02,  3.52977656e-01,\n",
       "        -3.30789158e-01],\n",
       "       [-3.57588486e+00, -1.40978845e+00, -3.27957970e-02,\n",
       "         9.38218762e-01, -1.14707374e+00, -6.62420278e-01,\n",
       "         4.57899546e-01,  8.26624788e-02,  2.84229486e-01,\n",
       "        -2.31258924e-01],\n",
       "       [-5.07422448e+00,  1.15113174e+00,  6.88986819e+00,\n",
       "        -1.24250510e+00,  1.34208623e+00,  7.22207068e-01,\n",
       "        -1.10489992e+00,  2.60511573e+00, -7.43703987e-02,\n",
       "        -1.14674897e+00],\n",
       "       [-3.33573201e+00, -1.51745569e+00, -2.17925221e-01,\n",
       "         1.19949145e+00, -1.34210724e+00, -9.12164304e-01,\n",
       "         7.97688584e-01, -8.85551708e-01,  4.20975621e-01,\n",
       "        -1.11211833e-01],\n",
       "       [-3.30818027e+00, -1.53685068e+00, -3.42035105e-01,\n",
       "         1.18322639e+00, -1.29006990e+00, -7.66785224e-01,\n",
       "         6.99141631e-01, -8.58295041e-01,  3.88703933e-01,\n",
       "        -3.27514714e-02],\n",
       "       [-3.95581301e+00,  1.22350581e+00,  5.38520114e+00,\n",
       "         2.38918482e-01,  7.88454272e-01,  6.74163097e-01,\n",
       "         2.85241261e-01, -1.80638544e+00,  1.72361822e-03,\n",
       "         7.63262315e-01],\n",
       "       [-2.27379454e+00, -1.71233975e+00, -6.47933972e-01,\n",
       "         1.89353757e-01, -2.80553350e-01, -2.38340149e-01,\n",
       "         1.64900942e-01,  1.35962647e+00,  1.24784492e-01,\n",
       "         1.24286427e+00],\n",
       "       [-2.12224883e+00, -1.67948094e+00, -7.30091449e-01,\n",
       "         2.04938506e-01, -2.30100765e-01, -1.34651899e-01,\n",
       "         1.03519380e-01,  1.36231944e+00,  4.76147761e-02,\n",
       "         1.28406129e+00],\n",
       "       [-3.19017238e+00, -1.64821759e+00, -3.81756205e-01,\n",
       "         8.40998980e-01, -8.62964904e-01, -1.80304609e-01,\n",
       "         1.56122449e-01,  6.10361279e-01, -2.73180423e-01,\n",
       "        -3.71756429e-02]])"
      ]
     },
     "execution_count": 717,
     "metadata": {},
     "output_type": "execute_result"
    }
   ],
   "source": [
    "## Reload the the first 10 components of delta dataset\n",
    "reduced = np.load('delta_reduced.npy')\n",
    "reduced"
   ]
  },
  {
   "cell_type": "markdown",
   "metadata": {},
   "source": [
    "Write a function named cluster() that fits a k-means clustering algorithm, and returns a tuple (sklearn.cluster.k_means_.KMeans, np.array). The second element of the tuple is a 1-d array that contains the predictions of k-means clustering, i.e. which cluster each data point belongs to. Please remember how we were generating and using the labels for seeds, movements, iris etc.\n",
    "\n",
    "\n",
    "Use default values for all parameters in KMeans() execept for n_clusters and random_state."
   ]
  },
  {
   "cell_type": "code",
   "execution_count": 718,
   "metadata": {},
   "outputs": [],
   "source": [
    "def cluster(array, random_state, n_clusters=4):\n",
    "    '''\n",
    "    Fits and predicts k-means clustering on \"array\"\n",
    "    \n",
    "    Parameters\n",
    "    ----------\n",
    "    array: A numpy array\n",
    "    random_state: Random seed, e.g. check_random_state(0)\n",
    "    n_clusters: The number of clusters. Default: 4\n",
    "    \n",
    "    Returns\n",
    "    -------\n",
    "    A tuple (sklearn.KMeans, np.ndarray)\n",
    "    '''\n",
    "    model = KMeans(n_clusters = n_clusters, random_state=random_state)\n",
    "    model = model.fit(array)\n",
    "    clusters = model.predict(array)\n",
    "    return model, clusters\n",
    "    model,clusters=cluster(array, random_state, n_clusters=4)\n",
    "\n",
    "#here we return fitted (model) and predicted (clusters) arrays as a tuple"
   ]
  },
  {
   "cell_type": "code",
   "execution_count": 719,
   "metadata": {},
   "outputs": [
    {
     "data": {
      "text/plain": [
       "(KMeans(n_clusters=4, random_state=0),\n",
       " array([0, 3, 0, 0, 1, 1, 1, 1, 0, 0, 0, 0, 0, 1, 0, 1, 0, 0, 0, 0, 1, 0,\n",
       "        1, 1, 0, 0, 1, 0, 1, 1, 1, 1, 1, 2, 2, 0, 0, 2, 0, 0, 2, 0, 0, 0]))"
      ]
     },
     "execution_count": 719,
     "metadata": {},
     "output_type": "execute_result"
    }
   ],
   "source": [
    "cluster(reduced, random_state=0, n_clusters=4)"
   ]
  },
  {
   "cell_type": "code",
   "execution_count": 720,
   "metadata": {},
   "outputs": [],
   "source": [
    "k_means_t, cluster_t = cluster(reduced, random_state=check_random_state(1), n_clusters=5)\n",
    "\n",
    "assert_is_instance(k_means_t, sklearn.cluster._kmeans.KMeans)\n",
    "assert_is_instance(cluster_t, np.ndarray)\n",
    "assert_equal(k_means_t.n_init, 10)\n",
    "assert_equal(k_means_t.n_clusters, 5)\n",
    "assert_equal(len(cluster_t), len(reduced))\n",
    "assert_true((cluster_t < 5).all()) # n_cluster = 5 so labels should be between 0 and 5\n",
    "assert_true((cluster_t >= 0).all())\n",
    "labels_gold = -1. * np.ones(len(reduced), dtype=np.int64)\n",
    "mindist = np.empty(len(reduced))\n",
    "mindist.fill(np.infty)\n",
    "for i in range(5):\n",
    "    dist = np.sum((reduced - k_means_t.cluster_centers_[i])**2., axis=1)\n",
    "    labels_gold[dist < mindist] = i\n",
    "    mindist = np.minimum(dist, mindist)\n",
    "assert_true((mindist >= 0.0).all())\n",
    "assert_true((labels_gold != -1).all())\n",
    "assert_array_equal(labels_gold, cluster_t)"
   ]
  },
  {
   "cell_type": "markdown",
   "metadata": {},
   "source": [
    "The scikit-learn documentation on sklearn.cluster.KMeans says that [Kmeans cluster](http://scikit-learn.org/stable/modules/generated/sklearn.cluster.KMeans.html) has the inertia value in the inertia_ attribute. So we can vary the number of clusters in KMeans, plot KMeans.inertia_ as a function of the number of clusters, and pick the \"elbow\" in the plot.\n",
    "\n",
    "Always use check_random_state(0) to seed the random number generator.\n"
   ]
  },
  {
   "cell_type": "code",
   "execution_count": 721,
   "metadata": {},
   "outputs": [],
   "source": [
    "def plot_inertia(array, start=1, end=10):\n",
    "    '''\n",
    "    Increase the number of clusters from \"start\" to \"end\" (inclusive).\n",
    "    Finds the inertia of k-means clustering for different k.\n",
    "    Plots inertia as a function of the number of clusters.\n",
    "\n",
    "    \n",
    "    Parameters\n",
    "    ----------\n",
    "    array: A numpy array.\n",
    "    start: An int. Default: 1\n",
    "    end: An int. Default: 10\n",
    "    \n",
    "    Returns\n",
    "    -------\n",
    "    A matplotlib.Axes instance.\n",
    "    '''\n",
    "    #Your code is here\n",
    "    inertia=[]\n",
    "    \n",
    "    for i in range(start,end+1):\n",
    "            model = KMeans(n_clusters = i, random_state=check_random_state(0))\n",
    "            model.fit(array)\n",
    "            inertia.append(model.inertia_)\n",
    "    fig, ax = plt.subplots(figsize=(10,6))\n",
    "    x_axis = range(start,end+1)\n",
    "    ax.set_title('The elbow method')\n",
    "    ax.set_ylabel('Inertia')\n",
    "    ax.set_xlabel('Number of clusters')\n",
    "    plt.plot(x_axis, inertia)\n",
    "    \n",
    "    return ax"
   ]
  },
  {
   "cell_type": "code",
   "execution_count": 755,
   "metadata": {},
   "outputs": [
    {
     "data": {
      "image/png": "[encoded data removed]",
      "text/plain": [
       "<Figure size 720x432 with 1 Axes>"
      ]
     },
     "metadata": {},
     "output_type": "display_data"
    }
   ],
   "source": [
    "inertia = plot_inertia(reduced)"
   ]
  },
  {
   "cell_type": "code",
   "execution_count": 30,
   "metadata": {},
   "outputs": [
    {
     "data": {
      "image/png": "[encoded data removed]",
      "text/plain": [
       "<matplotlib.figure.Figure at 0x1a137a1860>"
      ]
     },
     "metadata": {},
     "output_type": "display_data"
    }
   ],
   "source": [
    "inertia = plot_inertia(reduced)"
   ]
  },
  {
   "cell_type": "code",
   "execution_count": 723,
   "metadata": {},
   "outputs": [],
   "source": [
    "assert_is_instance(inertia, mpl.axes.Axes)\n",
    "assert_true(len(inertia.lines) >= 1)\n",
    "\n",
    "xdata, ydata = inertia.lines[0].get_xydata().T\n",
    "\n",
    "for i in range(1, 11):\n",
    "    k_means_t, cluster_t = cluster(reduced, random_state=check_random_state(0), n_clusters=i)\n",
    "    assert_array_equal(xdata[i - 1], i)\n",
    "    assert_almost_equal(ydata[i - 1], k_means_t.inertia_)\n",
    "\n",
    "assert_is_not(len(inertia.title.get_text()), 0,\n",
    "    msg=\"Your plot doesn't have a title.\")\n",
    "assert_is_not(inertia.xaxis.get_label_text(), '',\n",
    "    msg=\"Change the x-axis label to something more descriptive.\")\n",
    "assert_is_not(inertia.yaxis.get_label_text(), '',\n",
    "    msg=\"Change the y-axis label to something more descriptive.\")"
   ]
  },
  {
   "cell_type": "code",
   "execution_count": 724,
   "metadata": {},
   "outputs": [],
   "source": [
    "def plot_pair(reduced, clusters):\n",
    "    '''\n",
    "    Uses seaborn.PairGrid to visualize the data distribution\n",
    "    when axes are the first four principal components.\n",
    "    Diagonal plots are histograms. The off-diagonal plots are scatter plots.\n",
    "    \n",
    "    Parameters\n",
    "    ----------\n",
    "    reduced: A numpy array. Comes from importing delta_reduced.npy\n",
    "    \n",
    "    Returns\n",
    "    -------\n",
    "    A seaborn.axisgrid.PairGrid instance.\n",
    "    '''\n",
    "    \n",
    "    df = pd.DataFrame(reduced)\n",
    "    df['c'] = clusters\n",
    "    subset = [0,1,2,3, 'c']\n",
    "    columns = [0,1,2,3]\n",
    "    \n",
    "    ax = sns.PairGrid(df[subset], vars = columns, hue = 'c')\n",
    "    ax = ax.map_diag(plt.hist)\n",
    "    ax = ax.map_offdiag(plt.scatter)\n",
    "    \n",
    "    return ax"
   ]
  },
  {
   "cell_type": "code",
   "execution_count": 725,
   "metadata": {},
   "outputs": [
    {
     "data": {
      "image/png": "[encoded data removed]",
      "text/plain": [
       "<Figure size 720x720 with 20 Axes>"
      ]
     },
     "metadata": {
      "needs_background": "light"
     },
     "output_type": "display_data"
    }
   ],
   "source": [
    "k_means, clusters = cluster(reduced, random_state=check_random_state(0), n_clusters=4)\n",
    "pg = plot_pair(reduced, clusters)"
   ]
  },
  {
   "cell_type": "markdown",
   "metadata": {},
   "source": [
    "We observe that the one outlier is in its own cluster, there’s 3 or 4 points in the other clusters and the remainder are split into two clusters of greater size."
   ]
  },
  {
   "cell_type": "code",
   "execution_count": 633,
   "metadata": {},
   "outputs": [],
   "source": [
    "assert_is_instance(pg.fig, plt.Figure)\n",
    "assert_true(len(pg.data.columns) >= 4)\n",
    "\n",
    "for ax in pg.diag_axes:\n",
    "    assert_equal(len(ax.patches), 4 * 10) # 4 clusters with 10 patches in each histogram\n",
    "\n",
    "for i, j in zip(*np.triu_indices_from(pg.axes, 1)):\n",
    "    ax = pg.axes[i, j]\n",
    "    x_out, y_out = ax.collections[0].get_offsets().T\n",
    "    x_in = reduced[clusters == 0, j] # we only check the first cluster\n",
    "    y_in = reduced[clusters == 0, i]\n",
    "    assert_array_equal(x_in, x_out)\n",
    "    assert_array_equal(y_in, y_out)\n",
    "\n",
    "for i, j in zip(*np.tril_indices_from(pg.axes, -1)):\n",
    "    ax = pg.axes[i, j]\n",
    "    x_in = reduced[clusters == 0, j]\n",
    "    y_in = reduced[clusters == 0, i]\n",
    "    x_out, y_out = ax.collections[0].get_offsets().T\n",
    "    assert_array_equal(x_in, x_out)\n",
    "    assert_array_equal(y_in, y_out)\n",
    "\n",
    "for i, j in zip(*np.diag_indices_from(pg.axes)):\n",
    "    ax = pg.axes[i, j]\n",
    "    assert_equal(len(ax.collections), 0)"
   ]
  },
  {
   "cell_type": "markdown",
   "metadata": {},
   "source": [
    "#### Let's Continue our Analysis and brainstorm\n",
    "You don't have to write any code in this section, but here's one interpretaion of what we have done.\n",
    "\n",
    "Let's take a closer look at each cluster."
   ]
  },
  {
   "cell_type": "code",
   "execution_count": 634,
   "metadata": {},
   "outputs": [
    {
     "name": "stdout",
     "output_type": "stream",
     "text": [
      "Clusters\n",
      "0    153.625000\n",
      "1    244.733333\n",
      "2     44.500000\n",
      "3     54.000000\n",
      "Name: Accommodation, dtype: float64\n"
     ]
    }
   ],
   "source": [
    "\n",
    "df = pd.read_csv('delta.csv', index_col='Aircraft')\n",
    "df['Clusters'] = clusters\n",
    "df['Aircraft'] = df.index\n",
    "df_grouped = df.groupby('Clusters').mean()\n",
    "print(df_grouped.Accommodation)"
   ]
  },
  {
   "cell_type": "code",
   "execution_count": 635,
   "metadata": {},
   "outputs": [
    {
     "name": "stdout",
     "output_type": "stream",
     "text": [
      "Clusters\n",
      "0    137.048083\n",
      "1    190.538400\n",
      "2     84.810750\n",
      "3    111.000000\n",
      "Name: Length (ft), dtype: float64\n"
     ]
    }
   ],
   "source": [
    "print(df_grouped['Length (ft)'])"
   ]
  },
  {
   "cell_type": "markdown",
   "metadata": {},
   "source": [
    "Cluster 3 has only one aircraft:"
   ]
  },
  {
   "cell_type": "code",
   "execution_count": 636,
   "metadata": {},
   "outputs": [
    {
     "name": "stdout",
     "output_type": "stream",
     "text": [
      "Aircraft\n",
      "Airbus A319 VIP    Airbus A319 VIP\n",
      "Name: Aircraft, dtype: object\n"
     ]
    }
   ],
   "source": [
    "clust3 = df[df.Clusters == 3]\n",
    "print(clust3.Aircraft)"
   ]
  },
  {
   "cell_type": "markdown",
   "metadata": {},
   "source": [
    "Airbus A319 VIP is not one of Delta Airline's regular fleet and is one of Airbus corporate jets.\n",
    "\n",
    "Cluster 2 has four aircrafts."
   ]
  },
  {
   "cell_type": "code",
   "execution_count": 637,
   "metadata": {},
   "outputs": [
    {
     "name": "stdout",
     "output_type": "stream",
     "text": [
      "Aircraft\n",
      "CRJ 100/200 Pinnacle/SkyWest    CRJ 100/200 Pinnacle/SkyWest\n",
      "CRJ 100/200 ExpressJet                CRJ 100/200 ExpressJet\n",
      "E120                                                    E120\n",
      "ERJ-145                                              ERJ-145\n",
      "Name: Aircraft, dtype: object\n"
     ]
    }
   ],
   "source": [
    "clust2 = df[df.Clusters == 2]\n",
    "print(clust2.Aircraft)"
   ]
  },
  {
   "cell_type": "markdown",
   "metadata": {},
   "source": [
    "These are small aircrafts and only have economy seats."
   ]
  },
  {
   "cell_type": "code",
   "execution_count": 638,
   "metadata": {},
   "outputs": [
    {
     "name": "stdout",
     "output_type": "stream",
     "text": [
      "                              First Class  Business  Eco Comfort  Economy\n",
      "Aircraft                                                                 \n",
      "CRJ 100/200 Pinnacle/SkyWest            0         0            0        1\n",
      "CRJ 100/200 ExpressJet                  0         0            0        1\n",
      "E120                                    0         0            0        1\n",
      "ERJ-145                                 0         0            0        1\n"
     ]
    }
   ],
   "source": [
    "cols_seat = ['First Class', 'Business', 'Eco Comfort', 'Economy']\n",
    "print(df.loc[clust2.index, cols_seat])"
   ]
  },
  {
   "cell_type": "code",
   "execution_count": 639,
   "metadata": {},
   "outputs": [
    {
     "name": "stdout",
     "output_type": "stream",
     "text": [
      "Aircraft\n",
      "Airbus A330-200                      Airbus A330-200\n",
      "Airbus A330-200 (3L2)          Airbus A330-200 (3L2)\n",
      "Airbus A330-200 (3L3)          Airbus A330-200 (3L3)\n",
      "Airbus A330-300                      Airbus A330-300\n",
      "Boeing 747-400 (74S)            Boeing 747-400 (74S)\n",
      "Boeing 757-200 (75E)            Boeing 757-200 (75E)\n",
      "Boeing 757-200 (75X)            Boeing 757-200 (75X)\n",
      "Boeing 767-300 (76G)            Boeing 767-300 (76G)\n",
      "Boeing 767-300 (76L)            Boeing 767-300 (76L)\n",
      "Boeing 767-300 (76T)            Boeing 767-300 (76T)\n",
      "Boeing 767-300 (76Z V.1)    Boeing 767-300 (76Z V.1)\n",
      "Boeing 767-300 (76Z V.2)    Boeing 767-300 (76Z V.2)\n",
      "Boeing 767-400 (76D)            Boeing 767-400 (76D)\n",
      "Boeing 777-200ER                    Boeing 777-200ER\n",
      "Boeing 777-200LR                    Boeing 777-200LR\n",
      "Name: Aircraft, dtype: object\n"
     ]
    }
   ],
   "source": [
    "clust1 = df[df.Clusters == 1]\n",
    "print(clust1.Aircraft)"
   ]
  },
  {
   "cell_type": "markdown",
   "metadata": {},
   "source": [
    "Interesting, Cluster 1 aircrafts do not have first class seating.\n",
    "\n"
   ]
  },
  {
   "cell_type": "code",
   "execution_count": 640,
   "metadata": {},
   "outputs": [
    {
     "name": "stdout",
     "output_type": "stream",
     "text": [
      "                          First Class  Business  Eco Comfort  Economy\n",
      "Aircraft                                                             \n",
      "Airbus A330-200                     0         1            1        1\n",
      "Airbus A330-200 (3L2)               0         1            1        1\n",
      "Airbus A330-200 (3L3)               0         1            1        1\n",
      "Airbus A330-300                     0         1            1        1\n",
      "Boeing 747-400 (74S)                0         1            1        1\n",
      "Boeing 757-200 (75E)                0         1            1        1\n",
      "Boeing 757-200 (75X)                0         1            1        1\n",
      "Boeing 767-300 (76G)                0         1            1        1\n",
      "Boeing 767-300 (76L)                0         1            1        1\n",
      "Boeing 767-300 (76T)                0         1            1        1\n",
      "Boeing 767-300 (76Z V.1)            0         1            1        1\n",
      "Boeing 767-300 (76Z V.2)            0         1            1        1\n",
      "Boeing 767-400 (76D)                0         1            1        1\n",
      "Boeing 777-200ER                    0         1            1        1\n",
      "Boeing 777-200LR                    0         1            1        1\n"
     ]
    }
   ],
   "source": [
    "print(df.loc[clust1.index, cols_seat])"
   ]
  },
  {
   "cell_type": "code",
   "execution_count": 641,
   "metadata": {},
   "outputs": [
    {
     "name": "stdout",
     "output_type": "stream",
     "text": [
      "Aircraft\n",
      "Airbus A319                          Airbus A319\n",
      "Airbus A320                          Airbus A320\n",
      "Airbus A320 32-R                Airbus A320 32-R\n",
      "Boeing 717                            Boeing 717\n",
      "Boeing 737-700 (73W)        Boeing 737-700 (73W)\n",
      "Boeing 737-800 (738)        Boeing 737-800 (738)\n",
      "Boeing 737-800 (73H)        Boeing 737-800 (73H)\n",
      "Boeing 737-900ER (739)    Boeing 737-900ER (739)\n",
      "Boeing 757-200 (75A)        Boeing 757-200 (75A)\n",
      "Boeing 757-200 (75M)        Boeing 757-200 (75M)\n",
      "Boeing 757-200 (75N)        Boeing 757-200 (75N)\n",
      "Boeing 757-200 (757)        Boeing 757-200 (757)\n",
      "Boeing 757-200 (75V)        Boeing 757-200 (75V)\n",
      "Boeing 757-300                    Boeing 757-300\n",
      "Boeing 767-300 (76P)        Boeing 767-300 (76P)\n",
      "Boeing 767-300 (76Q)        Boeing 767-300 (76Q)\n",
      "Boeing 767-300 (76U)        Boeing 767-300 (76U)\n",
      "CRJ 700                                  CRJ 700\n",
      "CRJ 900                                  CRJ 900\n",
      "E170                                        E170\n",
      "E175                                        E175\n",
      "MD-88                                      MD-88\n",
      "MD-90                                      MD-90\n",
      "MD-DC9-50                              MD-DC9-50\n",
      "Name: Aircraft, dtype: object\n"
     ]
    }
   ],
   "source": [
    "clust0 = df[df.Clusters == 0]\n",
    "print(clust0.Aircraft)"
   ]
  },
  {
   "cell_type": "markdown",
   "metadata": {},
   "source": [
    "The aircrafts in cluster 0 (except for one aircraft) have first class seating but no business class.\n",
    "\n"
   ]
  },
  {
   "cell_type": "code",
   "execution_count": 642,
   "metadata": {},
   "outputs": [
    {
     "name": "stdout",
     "output_type": "stream",
     "text": [
      "                        First Class  Business  Eco Comfort  Economy\n",
      "Aircraft                                                           \n",
      "Airbus A319                       1         0            1        1\n",
      "Airbus A320                       1         0            1        1\n",
      "Airbus A320 32-R                  1         0            1        1\n",
      "Boeing 717                        1         0            1        1\n",
      "Boeing 737-700 (73W)              1         0            1        1\n",
      "Boeing 737-800 (738)              1         0            1        1\n",
      "Boeing 737-800 (73H)              1         0            1        1\n",
      "Boeing 737-900ER (739)            1         0            1        1\n",
      "Boeing 757-200 (75A)              1         0            1        1\n",
      "Boeing 757-200 (75M)              1         0            1        1\n",
      "Boeing 757-200 (75N)              1         0            1        1\n",
      "Boeing 757-200 (757)              1         0            1        1\n",
      "Boeing 757-200 (75V)              1         0            1        1\n",
      "Boeing 757-300                    1         0            1        1\n",
      "Boeing 767-300 (76P)              1         0            1        1\n",
      "Boeing 767-300 (76Q)              1         0            1        1\n",
      "Boeing 767-300 (76U)              0         1            1        1\n",
      "CRJ 700                           1         0            1        1\n",
      "CRJ 900                           1         0            1        1\n",
      "E170                              1         0            1        1\n",
      "E175                              1         0            1        1\n",
      "MD-88                             1         0            1        1\n",
      "MD-90                             1         0            1        1\n",
      "MD-DC9-50                         1         0            1        1\n"
     ]
    }
   ],
   "source": [
    "print(df.loc[clust0.index, cols_seat])"
   ]
  },
  {
   "cell_type": "markdown",
   "metadata": {
    "collapsed": true
   },
   "source": [
    "### Problem 3\n",
    "(No Unit Tests in this portion)"
   ]
  },
  {
   "cell_type": "markdown",
   "metadata": {},
   "source": [
    "Run DBSCAN on Iris.csv and compare/discuss the results with K-Means. Please submit your code and output, and write down 3-4 sentences that you observed from the results.\n",
    "\n",
    "\n",
    "Run DBSCAN on Reduced_Delta dataset and compare/discuss the results with K-Means. Please submit your code and output, and write down 3-4 sentences that you observed from the results.\n",
    "\n",
    "Run KMeans on movements.csv compare/discuss the results with DBSCAN and Hierarchical Clustering (Agglomerative). Please submit your code and output, and write down 3-4 sentences that you observed from the results\n"
   ]
  },
  {
   "cell_type": "markdown",
   "metadata": {},
   "source": [
    "### DBSCAN on IRIS ###"
   ]
  },
  {
   "cell_type": "code",
   "execution_count": 727,
   "metadata": {},
   "outputs": [
    {
     "name": "stdout",
     "output_type": "stream",
     "text": [
      "{0, 1, -1}\n",
      "   Feature1  Feature2  Species\n",
      "0       5.1       1.4      0.0\n",
      "1       4.9       1.4      0.0\n",
      "2       4.7       1.3      0.0\n",
      "3       4.6       1.5      0.0\n",
      "4       5.0       1.4      0.0\n"
     ]
    },
    {
     "data": {
      "image/png": "[encoded data removed]",
      "text/plain": [
       "<Figure size 864x720 with 1 Axes>"
      ]
     },
     "metadata": {},
     "output_type": "display_data"
    }
   ],
   "source": [
    "from sklearn.cluster import DBSCAN\n",
    "import pandas as pd\n",
    "#% matplotlib inline\n",
    "\n",
    "# Standard imports\n",
    "import numpy as np\n",
    "import pandas as pd\n",
    "import matplotlib.pyplot as plt\n",
    "import seaborn as sns\n",
    "\n",
    "# We do this to ignore several specific Pandas warnings\n",
    "import warnings\n",
    "warnings.filterwarnings(\"ignore\")\n",
    "dataset = pd.read_csv('Iris.csv')\n",
    "\n",
    "x = dataset.iloc[:, [1, 3]].values\n",
    "\n",
    "# Apply DBSCAN\n",
    "db = DBSCAN(eps=0.7, metric='euclidean', min_samples=20)\n",
    "db.fit(x)\n",
    "\n",
    "\n",
    "# Two sets of colors, can modify these to ensure colors match between known and predicted clusters.\n",
    "clr = [sns.xkcd_rgb[\"pale red\"], sns.xkcd_rgb[\"denim blue\"], sns.xkcd_rgb[\"medium green\"]]\n",
    "pclr = [sns.xkcd_rgb[\"medium green\"], sns.xkcd_rgb[\"pale red\"], sns.xkcd_rgb[\"denim blue\"]]\n",
    "lbls = ['Setosa', 'Versicolor', 'Virginica']\n",
    "plbls = ['Class 0', 'Class 1', 'Class 2']\n",
    "cols = ['Feature1', 'Feature2', 'Species']\n",
    "dt = pd.DataFrame(dataset, columns = cols)\n",
    "# Get cluster labels and assign plotting colors/labels.\n",
    "dblbls = set(db.labels_)\n",
    "print(dblbls)\n",
    "dbclrs = sns.hls_palette(len(dblbls))\n",
    "dbcls = ['Class {0}'.format(idx) if idx >= -1 else 'Noise' for idx in dblbls]\n",
    "\n",
    "\n",
    "pc = pd.DataFrame(np.concatenate((x, db.labels_.reshape((150, 1))), axis=1), columns = cols)\n",
    "print(pc.head(5))\n",
    "\n",
    "# Make plot\n",
    "sns.set(font_scale=2.0)\n",
    "fig, ax = plt.subplots(figsize=(12, 10))\n",
    "\n",
    "# Plot three known clusters\n",
    "for idx in range(3):\n",
    "    tmp_df = dt[dt['Species'] == idx]\n",
    "    ax.scatter(tmp_df['Feature1'], tmp_df['Feature2'], color=clr[idx], label=lbls[idx], alpha=0.2, s=360)\n",
    "\n",
    "# Plot DBSCAN clusters (and noise)\n",
    "for idx in list(dblbls):\n",
    "    tmp_pdf = pc[pc['Species'] == idx]\n",
    "    ax.scatter(tmp_pdf['Feature1'], tmp_pdf['Feature2'], color=dbclrs[idx], label=dbcls[idx], alpha=1, s=360)\n",
    "#ax.set_xlim(-4.2, 4.6)\n",
    "#ax.set_ylim(-1.8, 1.6)\n",
    "    ax.set_xlabel('Feature 1')\n",
    "    ax.set_ylabel('Feature 2')\n",
    "    ax.set_title('Iris Data')\n",
    "    ax.legend(bbox_to_anchor=(1, 1), loc=2)\n",
    "\n",
    "sns.despine(offset=5, trim=True)\n",
    "sns.set(font_scale=1.0)"
   ]
  },
  {
   "cell_type": "markdown",
   "metadata": {},
   "source": [
    "### Interpretation of K means vs dbscan IRIS\n",
    "In k-means we can see that the top clusters are very close to each other and seem to be overlapping which is not the case with DBSCAN. \n",
    "\n",
    "Clearly we can see that DBSCAN performs better."
   ]
  },
  {
   "cell_type": "markdown",
   "metadata": {},
   "source": [
    "### DBSCAN on Delta dataset ###"
   ]
  },
  {
   "cell_type": "code",
   "execution_count": 728,
   "metadata": {},
   "outputs": [],
   "source": [
    "#finding optimal e value\n",
    "from sklearn.neighbors import NearestNeighbors # importing the library\n",
    "neighb = NearestNeighbors(n_neighbors=20) # creating an object of the NearestNeighbors class\n",
    "nbrs=neighb.fit(reduced) # fitting the data to the object\n",
    "distances,indices=nbrs.kneighbors(reduced) # finding the nearest neighbours"
   ]
  },
  {
   "cell_type": "code",
   "execution_count": 729,
   "metadata": {},
   "outputs": [
    {
     "data": {
      "image/png": "[encoded data removed]",
      "text/plain": [
       "<Figure size 360x216 with 1 Axes>"
      ]
     },
     "metadata": {},
     "output_type": "display_data"
    }
   ],
   "source": [
    "# Sort and plot the distances results\n",
    "distances = np.sort(distances, axis = 0) # sorting the distances\n",
    "distances = distances[:, 1] # taking the second column of the sorted distances\n",
    "plt.rcParams['figure.figsize'] = (5,3) # setting the figure size\n",
    "plt.plot(distances) # plotting the distances\n",
    "plt.show() # showing the plot"
   ]
  },
  {
   "cell_type": "code",
   "execution_count": 307,
   "metadata": {},
   "outputs": [
    {
     "name": "stdout",
     "output_type": "stream",
     "text": [
      "Collecting kneedNote: you may need to restart the kernel to use updated packages.\n",
      "\n",
      "  Downloading kneed-0.7.0-py2.py3-none-any.whl (9.4 kB)\n",
      "Requirement already satisfied: numpy>=1.14.2 in c:\\users\\vidis\\anaconda3\\lib\\site-packages (from kneed) (1.20.3)\n",
      "Requirement already satisfied: matplotlib in c:\\users\\vidis\\anaconda3\\lib\\site-packages (from kneed) (3.4.3)\n",
      "Requirement already satisfied: scipy in c:\\users\\vidis\\anaconda3\\lib\\site-packages (from kneed) (1.7.1)\n",
      "Requirement already satisfied: cycler>=0.10 in c:\\users\\vidis\\anaconda3\\lib\\site-packages (from matplotlib->kneed) (0.10.0)\n",
      "Requirement already satisfied: pyparsing>=2.2.1 in c:\\users\\vidis\\anaconda3\\lib\\site-packages (from matplotlib->kneed) (3.0.4)\n",
      "Requirement already satisfied: pillow>=6.2.0 in c:\\users\\vidis\\anaconda3\\lib\\site-packages (from matplotlib->kneed) (8.4.0)\n",
      "Requirement already satisfied: python-dateutil>=2.7 in c:\\users\\vidis\\anaconda3\\lib\\site-packages (from matplotlib->kneed) (2.8.2)\n",
      "Requirement already satisfied: kiwisolver>=1.0.1 in c:\\users\\vidis\\anaconda3\\lib\\site-packages (from matplotlib->kneed) (1.3.1)\n",
      "Requirement already satisfied: six in c:\\users\\vidis\\anaconda3\\lib\\site-packages (from cycler>=0.10->matplotlib->kneed) (1.16.0)\n",
      "Installing collected packages: kneed\n",
      "Successfully installed kneed-0.7.0\n"
     ]
    }
   ],
   "source": [
    "pip install kneed"
   ]
  },
  {
   "cell_type": "code",
   "execution_count": 730,
   "metadata": {},
   "outputs": [
    {
     "name": "stdout",
     "output_type": "stream",
     "text": [
      "Optimal e value:2\n"
     ]
    },
    {
     "data": {
      "text/plain": [
       "<Figure size 360x360 with 0 Axes>"
      ]
     },
     "metadata": {},
     "output_type": "display_data"
    },
    {
     "data": {
      "image/png": "[encoded data removed]",
      "text/plain": [
       "<Figure size 432x432 with 1 Axes>"
      ]
     },
     "metadata": {},
     "output_type": "display_data"
    }
   ],
   "source": [
    "from kneed import KneeLocator\n",
    "\n",
    "i = np.arange(len(distances))\n",
    "knee = KneeLocator(i, distances, S=1, curve='convex', direction='increasing', interp_method='polynomial')\n",
    "\n",
    "fig = plt.figure(figsize=(5, 5))\n",
    "knee.plot_knee()\n",
    "plt.xlabel(\"Points\")\n",
    "plt.ylabel(\"Distance\")\n",
    "\n",
    "print('Optimal e value:%d' % distances[knee.knee])"
   ]
  },
  {
   "cell_type": "code",
   "execution_count": 732,
   "metadata": {},
   "outputs": [
    {
     "name": "stdout",
     "output_type": "stream",
     "text": [
      "Estimated number of clusters: 4\n",
      "Estimated number of noise points: 5\n"
     ]
    },
    {
     "data": {
      "text/plain": [
       "<matplotlib.collections.PathCollection at 0x1406b7a4700>"
      ]
     },
     "execution_count": 732,
     "metadata": {},
     "output_type": "execute_result"
    },
    {
     "data": {
      "image/png": "[encoded data removed]",
      "text/plain": [
       "<Figure size 360x216 with 1 Axes>"
      ]
     },
     "metadata": {},
     "output_type": "display_data"
    }
   ],
   "source": [
    "#DBSCAN on reduced delta data\n",
    "# We do this to ignore several specific Pandas warnings\n",
    "from sklearn import metrics\n",
    "import warnings\n",
    "warnings.filterwarnings(\"ignore\")\n",
    "# Apply DBSCAN\n",
    "db = DBSCAN(eps=3, metric='euclidean', min_samples=3)\n",
    "clusters_dbscan = db.fit_predict(reduced)\n",
    "labels = db.labels_\n",
    "labels\n",
    "n_clusters_ = len(set(labels)) - (1 if -1 in labels else 0)\n",
    "n_noise_ = list(labels).count(-1)\n",
    "\n",
    "print('Estimated number of clusters: %d' % n_clusters_)\n",
    "print('Estimated number of noise points: %d' % n_noise_)\n",
    "#plot the clusters\n",
    "plt.scatter(reduced[:, 0],  reduced[:, 1], c=clusters, cmap=\"plasma\")\n"
   ]
  },
  {
   "cell_type": "markdown",
   "metadata": {},
   "source": [
    "### Interpretation of DBSCAN vs Kmeans on reduced delta\n",
    "In k-means we can see many outliers within clusters while in dbscan the outliers are reduced and clusters more closely defined.\n",
    "Clearly we can see that DBSCAN performs better."
   ]
  },
  {
   "cell_type": "markdown",
   "metadata": {},
   "source": [
    "### K-means on movements data ###"
   ]
  },
  {
   "cell_type": "code",
   "execution_count": 737,
   "metadata": {},
   "outputs": [
    {
     "data": {
      "text/html": [
       "<div>\n",
       "<style scoped>\n",
       "    .dataframe tbody tr th:only-of-type {\n",
       "        vertical-align: middle;\n",
       "    }\n",
       "\n",
       "    .dataframe tbody tr th {\n",
       "        vertical-align: top;\n",
       "    }\n",
       "\n",
       "    .dataframe thead th {\n",
       "        text-align: right;\n",
       "    }\n",
       "</style>\n",
       "<table border=\"1\" class=\"dataframe\">\n",
       "  <thead>\n",
       "    <tr style=\"text-align: right;\">\n",
       "      <th></th>\n",
       "      <th>Unnamed: 0</th>\n",
       "      <th>2010-01-04</th>\n",
       "      <th>2010-01-05</th>\n",
       "      <th>2010-01-06</th>\n",
       "      <th>2010-01-07</th>\n",
       "      <th>2010-01-08</th>\n",
       "      <th>2010-01-11</th>\n",
       "      <th>2010-01-12</th>\n",
       "      <th>2010-01-13</th>\n",
       "      <th>2010-01-14</th>\n",
       "      <th>...</th>\n",
       "      <th>2013-10-16</th>\n",
       "      <th>2013-10-17</th>\n",
       "      <th>2013-10-18</th>\n",
       "      <th>2013-10-21</th>\n",
       "      <th>2013-10-22</th>\n",
       "      <th>2013-10-23</th>\n",
       "      <th>2013-10-24</th>\n",
       "      <th>2013-10-25</th>\n",
       "      <th>2013-10-28</th>\n",
       "      <th>2013-10-29</th>\n",
       "    </tr>\n",
       "  </thead>\n",
       "  <tbody>\n",
       "    <tr>\n",
       "      <th>0</th>\n",
       "      <td>Apple</td>\n",
       "      <td>0.580000</td>\n",
       "      <td>-0.220005</td>\n",
       "      <td>-3.409998</td>\n",
       "      <td>-1.170000</td>\n",
       "      <td>1.680011</td>\n",
       "      <td>-2.689994</td>\n",
       "      <td>-1.469994</td>\n",
       "      <td>2.779997</td>\n",
       "      <td>-0.680003</td>\n",
       "      <td>...</td>\n",
       "      <td>0.320008</td>\n",
       "      <td>4.519997</td>\n",
       "      <td>2.899987</td>\n",
       "      <td>9.590019</td>\n",
       "      <td>-6.540016</td>\n",
       "      <td>5.959976</td>\n",
       "      <td>6.910011</td>\n",
       "      <td>-5.359962</td>\n",
       "      <td>0.840019</td>\n",
       "      <td>-19.589981</td>\n",
       "    </tr>\n",
       "    <tr>\n",
       "      <th>1</th>\n",
       "      <td>AIG</td>\n",
       "      <td>-0.640002</td>\n",
       "      <td>-0.650000</td>\n",
       "      <td>-0.210001</td>\n",
       "      <td>-0.420000</td>\n",
       "      <td>0.710001</td>\n",
       "      <td>-0.200001</td>\n",
       "      <td>-1.130001</td>\n",
       "      <td>0.069999</td>\n",
       "      <td>-0.119999</td>\n",
       "      <td>...</td>\n",
       "      <td>0.919998</td>\n",
       "      <td>0.709999</td>\n",
       "      <td>0.119999</td>\n",
       "      <td>-0.480000</td>\n",
       "      <td>0.010002</td>\n",
       "      <td>-0.279998</td>\n",
       "      <td>-0.190003</td>\n",
       "      <td>-0.040001</td>\n",
       "      <td>-0.400002</td>\n",
       "      <td>0.660000</td>\n",
       "    </tr>\n",
       "    <tr>\n",
       "      <th>2</th>\n",
       "      <td>Amazon</td>\n",
       "      <td>-2.350006</td>\n",
       "      <td>1.260009</td>\n",
       "      <td>-2.350006</td>\n",
       "      <td>-2.009995</td>\n",
       "      <td>2.960006</td>\n",
       "      <td>-2.309997</td>\n",
       "      <td>-1.640007</td>\n",
       "      <td>1.209999</td>\n",
       "      <td>-1.790001</td>\n",
       "      <td>...</td>\n",
       "      <td>2.109985</td>\n",
       "      <td>3.699982</td>\n",
       "      <td>9.570008</td>\n",
       "      <td>-3.450013</td>\n",
       "      <td>4.820008</td>\n",
       "      <td>-4.079986</td>\n",
       "      <td>2.579986</td>\n",
       "      <td>4.790009</td>\n",
       "      <td>-1.760009</td>\n",
       "      <td>3.740021</td>\n",
       "    </tr>\n",
       "    <tr>\n",
       "      <th>3</th>\n",
       "      <td>American express</td>\n",
       "      <td>0.109997</td>\n",
       "      <td>0.000000</td>\n",
       "      <td>0.260002</td>\n",
       "      <td>0.720002</td>\n",
       "      <td>0.190003</td>\n",
       "      <td>-0.270001</td>\n",
       "      <td>0.750000</td>\n",
       "      <td>0.300004</td>\n",
       "      <td>0.639999</td>\n",
       "      <td>...</td>\n",
       "      <td>0.680001</td>\n",
       "      <td>2.290001</td>\n",
       "      <td>0.409996</td>\n",
       "      <td>-0.069999</td>\n",
       "      <td>0.100006</td>\n",
       "      <td>0.069999</td>\n",
       "      <td>0.130005</td>\n",
       "      <td>1.849999</td>\n",
       "      <td>0.040001</td>\n",
       "      <td>0.540001</td>\n",
       "    </tr>\n",
       "    <tr>\n",
       "      <th>4</th>\n",
       "      <td>Boeing</td>\n",
       "      <td>0.459999</td>\n",
       "      <td>1.770000</td>\n",
       "      <td>1.549999</td>\n",
       "      <td>2.690003</td>\n",
       "      <td>0.059997</td>\n",
       "      <td>-1.080002</td>\n",
       "      <td>0.360000</td>\n",
       "      <td>0.549999</td>\n",
       "      <td>0.530002</td>\n",
       "      <td>...</td>\n",
       "      <td>1.559997</td>\n",
       "      <td>2.480003</td>\n",
       "      <td>0.019997</td>\n",
       "      <td>-1.220001</td>\n",
       "      <td>0.480003</td>\n",
       "      <td>3.020004</td>\n",
       "      <td>-0.029999</td>\n",
       "      <td>1.940002</td>\n",
       "      <td>1.130005</td>\n",
       "      <td>0.309998</td>\n",
       "    </tr>\n",
       "  </tbody>\n",
       "</table>\n",
       "<p>5 rows × 964 columns</p>\n",
       "</div>"
      ],
      "text/plain": [
       "         Unnamed: 0  2010-01-04  2010-01-05  2010-01-06  2010-01-07  \\\n",
       "0             Apple    0.580000   -0.220005   -3.409998   -1.170000   \n",
       "1               AIG   -0.640002   -0.650000   -0.210001   -0.420000   \n",
       "2            Amazon   -2.350006    1.260009   -2.350006   -2.009995   \n",
       "3  American express    0.109997    0.000000    0.260002    0.720002   \n",
       "4            Boeing    0.459999    1.770000    1.549999    2.690003   \n",
       "\n",
       "   2010-01-08  2010-01-11  2010-01-12  2010-01-13  2010-01-14  ...  \\\n",
       "0    1.680011   -2.689994   -1.469994    2.779997   -0.680003  ...   \n",
       "1    0.710001   -0.200001   -1.130001    0.069999   -0.119999  ...   \n",
       "2    2.960006   -2.309997   -1.640007    1.209999   -1.790001  ...   \n",
       "3    0.190003   -0.270001    0.750000    0.300004    0.639999  ...   \n",
       "4    0.059997   -1.080002    0.360000    0.549999    0.530002  ...   \n",
       "\n",
       "   2013-10-16  2013-10-17  2013-10-18  2013-10-21  2013-10-22  2013-10-23  \\\n",
       "0    0.320008    4.519997    2.899987    9.590019   -6.540016    5.959976   \n",
       "1    0.919998    0.709999    0.119999   -0.480000    0.010002   -0.279998   \n",
       "2    2.109985    3.699982    9.570008   -3.450013    4.820008   -4.079986   \n",
       "3    0.680001    2.290001    0.409996   -0.069999    0.100006    0.069999   \n",
       "4    1.559997    2.480003    0.019997   -1.220001    0.480003    3.020004   \n",
       "\n",
       "   2013-10-24  2013-10-25  2013-10-28  2013-10-29  \n",
       "0    6.910011   -5.359962    0.840019  -19.589981  \n",
       "1   -0.190003   -0.040001   -0.400002    0.660000  \n",
       "2    2.579986    4.790009   -1.760009    3.740021  \n",
       "3    0.130005    1.849999    0.040001    0.540001  \n",
       "4   -0.029999    1.940002    1.130005    0.309998  \n",
       "\n",
       "[5 rows x 964 columns]"
      ]
     },
     "execution_count": 737,
     "metadata": {},
     "output_type": "execute_result"
    }
   ],
   "source": [
    "movements=pd.read_csv(\"movements.csv\")\n",
    "movements.head()"
   ]
  },
  {
   "cell_type": "code",
   "execution_count": 738,
   "metadata": {},
   "outputs": [
    {
     "data": {
      "text/html": [
       "<div>\n",
       "<style scoped>\n",
       "    .dataframe tbody tr th:only-of-type {\n",
       "        vertical-align: middle;\n",
       "    }\n",
       "\n",
       "    .dataframe tbody tr th {\n",
       "        vertical-align: top;\n",
       "    }\n",
       "\n",
       "    .dataframe thead th {\n",
       "        text-align: right;\n",
       "    }\n",
       "</style>\n",
       "<table border=\"1\" class=\"dataframe\">\n",
       "  <thead>\n",
       "    <tr style=\"text-align: right;\">\n",
       "      <th></th>\n",
       "      <th>1</th>\n",
       "      <th>2</th>\n",
       "      <th>3</th>\n",
       "      <th>4</th>\n",
       "      <th>5</th>\n",
       "      <th>6</th>\n",
       "      <th>7</th>\n",
       "      <th>8</th>\n",
       "      <th>9</th>\n",
       "      <th>10</th>\n",
       "      <th>...</th>\n",
       "      <th>954</th>\n",
       "      <th>955</th>\n",
       "      <th>956</th>\n",
       "      <th>957</th>\n",
       "      <th>958</th>\n",
       "      <th>959</th>\n",
       "      <th>960</th>\n",
       "      <th>961</th>\n",
       "      <th>962</th>\n",
       "      <th>963</th>\n",
       "    </tr>\n",
       "  </thead>\n",
       "  <tbody>\n",
       "    <tr>\n",
       "      <th>0</th>\n",
       "      <td>0.580000</td>\n",
       "      <td>-0.220005</td>\n",
       "      <td>-3.409998</td>\n",
       "      <td>-1.170000</td>\n",
       "      <td>1.680011</td>\n",
       "      <td>-2.689994</td>\n",
       "      <td>-1.469994</td>\n",
       "      <td>2.779997</td>\n",
       "      <td>-0.680003</td>\n",
       "      <td>-4.999995</td>\n",
       "      <td>...</td>\n",
       "      <td>0.320008</td>\n",
       "      <td>4.519997</td>\n",
       "      <td>2.899987</td>\n",
       "      <td>9.590019</td>\n",
       "      <td>-6.540016</td>\n",
       "      <td>5.959976</td>\n",
       "      <td>6.910011</td>\n",
       "      <td>-5.359962</td>\n",
       "      <td>0.840019</td>\n",
       "      <td>-19.589981</td>\n",
       "    </tr>\n",
       "    <tr>\n",
       "      <th>1</th>\n",
       "      <td>-0.640002</td>\n",
       "      <td>-0.650000</td>\n",
       "      <td>-0.210001</td>\n",
       "      <td>-0.420000</td>\n",
       "      <td>0.710001</td>\n",
       "      <td>-0.200001</td>\n",
       "      <td>-1.130001</td>\n",
       "      <td>0.069999</td>\n",
       "      <td>-0.119999</td>\n",
       "      <td>-0.500000</td>\n",
       "      <td>...</td>\n",
       "      <td>0.919998</td>\n",
       "      <td>0.709999</td>\n",
       "      <td>0.119999</td>\n",
       "      <td>-0.480000</td>\n",
       "      <td>0.010002</td>\n",
       "      <td>-0.279998</td>\n",
       "      <td>-0.190003</td>\n",
       "      <td>-0.040001</td>\n",
       "      <td>-0.400002</td>\n",
       "      <td>0.660000</td>\n",
       "    </tr>\n",
       "    <tr>\n",
       "      <th>2</th>\n",
       "      <td>-2.350006</td>\n",
       "      <td>1.260009</td>\n",
       "      <td>-2.350006</td>\n",
       "      <td>-2.009995</td>\n",
       "      <td>2.960006</td>\n",
       "      <td>-2.309997</td>\n",
       "      <td>-1.640007</td>\n",
       "      <td>1.209999</td>\n",
       "      <td>-1.790001</td>\n",
       "      <td>-2.039994</td>\n",
       "      <td>...</td>\n",
       "      <td>2.109985</td>\n",
       "      <td>3.699982</td>\n",
       "      <td>9.570008</td>\n",
       "      <td>-3.450013</td>\n",
       "      <td>4.820008</td>\n",
       "      <td>-4.079986</td>\n",
       "      <td>2.579986</td>\n",
       "      <td>4.790009</td>\n",
       "      <td>-1.760009</td>\n",
       "      <td>3.740021</td>\n",
       "    </tr>\n",
       "    <tr>\n",
       "      <th>3</th>\n",
       "      <td>0.109997</td>\n",
       "      <td>0.000000</td>\n",
       "      <td>0.260002</td>\n",
       "      <td>0.720002</td>\n",
       "      <td>0.190003</td>\n",
       "      <td>-0.270001</td>\n",
       "      <td>0.750000</td>\n",
       "      <td>0.300004</td>\n",
       "      <td>0.639999</td>\n",
       "      <td>-0.130001</td>\n",
       "      <td>...</td>\n",
       "      <td>0.680001</td>\n",
       "      <td>2.290001</td>\n",
       "      <td>0.409996</td>\n",
       "      <td>-0.069999</td>\n",
       "      <td>0.100006</td>\n",
       "      <td>0.069999</td>\n",
       "      <td>0.130005</td>\n",
       "      <td>1.849999</td>\n",
       "      <td>0.040001</td>\n",
       "      <td>0.540001</td>\n",
       "    </tr>\n",
       "    <tr>\n",
       "      <th>4</th>\n",
       "      <td>0.459999</td>\n",
       "      <td>1.770000</td>\n",
       "      <td>1.549999</td>\n",
       "      <td>2.690003</td>\n",
       "      <td>0.059997</td>\n",
       "      <td>-1.080002</td>\n",
       "      <td>0.360000</td>\n",
       "      <td>0.549999</td>\n",
       "      <td>0.530002</td>\n",
       "      <td>-0.709999</td>\n",
       "      <td>...</td>\n",
       "      <td>1.559997</td>\n",
       "      <td>2.480003</td>\n",
       "      <td>0.019997</td>\n",
       "      <td>-1.220001</td>\n",
       "      <td>0.480003</td>\n",
       "      <td>3.020004</td>\n",
       "      <td>-0.029999</td>\n",
       "      <td>1.940002</td>\n",
       "      <td>1.130005</td>\n",
       "      <td>0.309998</td>\n",
       "    </tr>\n",
       "  </tbody>\n",
       "</table>\n",
       "<p>5 rows × 963 columns</p>\n",
       "</div>"
      ],
      "text/plain": [
       "        1         2         3         4         5         6         7    \\\n",
       "0  0.580000 -0.220005 -3.409998 -1.170000  1.680011 -2.689994 -1.469994   \n",
       "1 -0.640002 -0.650000 -0.210001 -0.420000  0.710001 -0.200001 -1.130001   \n",
       "2 -2.350006  1.260009 -2.350006 -2.009995  2.960006 -2.309997 -1.640007   \n",
       "3  0.109997  0.000000  0.260002  0.720002  0.190003 -0.270001  0.750000   \n",
       "4  0.459999  1.770000  1.549999  2.690003  0.059997 -1.080002  0.360000   \n",
       "\n",
       "        8         9         10   ...       954       955       956       957  \\\n",
       "0  2.779997 -0.680003 -4.999995  ...  0.320008  4.519997  2.899987  9.590019   \n",
       "1  0.069999 -0.119999 -0.500000  ...  0.919998  0.709999  0.119999 -0.480000   \n",
       "2  1.209999 -1.790001 -2.039994  ...  2.109985  3.699982  9.570008 -3.450013   \n",
       "3  0.300004  0.639999 -0.130001  ...  0.680001  2.290001  0.409996 -0.069999   \n",
       "4  0.549999  0.530002 -0.709999  ...  1.559997  2.480003  0.019997 -1.220001   \n",
       "\n",
       "        958       959       960       961       962        963  \n",
       "0 -6.540016  5.959976  6.910011 -5.359962  0.840019 -19.589981  \n",
       "1  0.010002 -0.279998 -0.190003 -0.040001 -0.400002   0.660000  \n",
       "2  4.820008 -4.079986  2.579986  4.790009 -1.760009   3.740021  \n",
       "3  0.100006  0.069999  0.130005  1.849999  0.040001   0.540001  \n",
       "4  0.480003  3.020004 -0.029999  1.940002  1.130005   0.309998  \n",
       "\n",
       "[5 rows x 963 columns]"
      ]
     },
     "execution_count": 738,
     "metadata": {},
     "output_type": "execute_result"
    }
   ],
   "source": [
    "movements=pd.read_csv(\"movements.csv\", header=None, index_col=False, skiprows=1, usecols=range(1,964))\n",
    "movements.head()"
   ]
  },
  {
   "cell_type": "code",
   "execution_count": 739,
   "metadata": {},
   "outputs": [
    {
     "data": {
      "text/plain": [
       "Pipeline(steps=[('normalizer', Normalizer()),\n",
       "                ('kmeans', KMeans(n_clusters=10))])"
      ]
     },
     "execution_count": 739,
     "metadata": {},
     "output_type": "execute_result"
    }
   ],
   "source": [
    "# Import Normalizer\n",
    "from sklearn.preprocessing import Normalizer\n",
    "\n",
    "# Create a normalizer: normalizer\n",
    "normalizer = Normalizer()\n",
    "\n",
    "# Create a KMeans model with 10 clusters: kmeans\n",
    "kmeans = KMeans(n_clusters=10)\n",
    "\n",
    "# Make a pipeline chaining normalizer and kmeans: pipeline\n",
    "pipeline = make_pipeline(normalizer, kmeans)\n",
    "\n",
    "# Fit pipeline to the daily price movements\n",
    "pipeline.fit(movements)"
   ]
  },
  {
   "cell_type": "code",
   "execution_count": 740,
   "metadata": {},
   "outputs": [
    {
     "name": "stdout",
     "output_type": "stream",
     "text": [
      "    labels                           companies\n",
      "47       0                            Symantec\n",
      "17       0                     Google/Alphabet\n",
      "2        0                              Amazon\n",
      "50       0  Taiwan Semiconductor Manufacturing\n",
      "43       0                                 SAP\n",
      "51       0                   Texas instruments\n",
      "30       0                          MasterCard\n",
      "23       0                                 IBM\n",
      "38       1                               Pepsi\n",
      "31       1                           McDonalds\n",
      "41       1                       Philip Morris\n",
      "28       1                           Coca Cola\n",
      "21       2                               Honda\n",
      "7        2                               Canon\n",
      "48       2                              Toyota\n",
      "15       2                                Ford\n",
      "45       2                                Sony\n",
      "34       2                          Mitsubishi\n",
      "58       2                               Xerox\n",
      "26       3                      JPMorgan Chase\n",
      "18       3                       Goldman Sachs\n",
      "16       3                   General Electrics\n",
      "55       3                         Wells Fargo\n",
      "5        3                     Bank of America\n",
      "3        3                    American express\n",
      "1        3                                 AIG\n",
      "20       3                          Home Depot\n",
      "0        4                               Apple\n",
      "40       5                      Procter Gamble\n",
      "25       5                   Johnson & Johnson\n",
      "54       5                            Walgreen\n",
      "27       5                      Kimberly-Clark\n",
      "9        5                   Colgate-Palmolive\n",
      "56       5                            Wal-Mart\n",
      "53       6                       Valero Energy\n",
      "44       6                        Schlumberger\n",
      "57       6                               Exxon\n",
      "59       6                               Yahoo\n",
      "35       6                            Navistar\n",
      "8        6                         Caterpillar\n",
      "10       6                      ConocoPhillips\n",
      "32       6                                  3M\n",
      "12       6                             Chevron\n",
      "13       6                   DuPont de Nemours\n",
      "36       7                    Northrop Grumman\n",
      "4        7                              Boeing\n",
      "29       7                     Lookheed Martin\n",
      "22       8                                  HP\n",
      "24       8                               Intel\n",
      "11       8                               Cisco\n",
      "33       8                           Microsoft\n",
      "14       8                                Dell\n",
      "19       9                     GlaxoSmithKline\n",
      "37       9                            Novartis\n",
      "49       9                               Total\n",
      "52       9                            Unilever\n",
      "42       9                   Royal Dutch Shell\n",
      "6        9            British American Tobacco\n",
      "39       9                              Pfizer\n",
      "46       9                      Sanofi-Aventis\n"
     ]
    }
   ],
   "source": [
    "companies=pd.read_csv(\"movements.csv\", header=None, index_col=False, skiprows=1, usecols=[0])\n",
    "companies=companies[0].values\n",
    "labels = pipeline.predict(movements)\n",
    "df = pd.DataFrame({'labels': labels, 'companies': companies})\n",
    "print(df.sort_values('labels'))\n"
   ]
  },
  {
   "cell_type": "markdown",
   "metadata": {},
   "source": [
    "### DBSCAN on movements dataset ###"
   ]
  },
  {
   "cell_type": "code",
   "execution_count": 741,
   "metadata": {},
   "outputs": [],
   "source": [
    "from sklearn.preprocessing import  MinMaxScaler\n",
    "scaler = MinMaxScaler()\n",
    "scaled = scaler.fit_transform(movements)"
   ]
  },
  {
   "cell_type": "code",
   "execution_count": 742,
   "metadata": {},
   "outputs": [],
   "source": [
    "#finding optimal e value\n",
    "from sklearn.neighbors import NearestNeighbors # importing the library\n",
    "neighb = NearestNeighbors(n_neighbors=60) # creating an object of the NearestNeighbors class\n",
    "nbrs=neighb.fit(scaled) # fitting the data to the object\n",
    "distances,indices=nbrs.kneighbors(scaled) # finding the nearest neighbours"
   ]
  },
  {
   "cell_type": "code",
   "execution_count": 743,
   "metadata": {},
   "outputs": [
    {
     "data": {
      "image/png": "[encoded data removed]",
      "text/plain": [
       "<Figure size 360x216 with 1 Axes>"
      ]
     },
     "metadata": {},
     "output_type": "display_data"
    }
   ],
   "source": [
    "# Sort and plot the distances results\n",
    "distances = np.sort(distances, axis = 0) # sorting the distances\n",
    "distances = distances[:, 1] # taking the second column of the sorted distances\n",
    "plt.rcParams['figure.figsize'] = (5,3) # setting the figure size\n",
    "plt.plot(distances) # plotting the distances\n",
    "plt.show() # showing the plot"
   ]
  },
  {
   "cell_type": "code",
   "execution_count": 744,
   "metadata": {},
   "outputs": [
    {
     "name": "stdout",
     "output_type": "stream",
     "text": [
      "Optimal e value:3\n"
     ]
    },
    {
     "data": {
      "text/plain": [
       "<Figure size 360x360 with 0 Axes>"
      ]
     },
     "metadata": {},
     "output_type": "display_data"
    },
    {
     "data": {
      "image/png": "[encoded data removed]",
      "text/plain": [
       "<Figure size 432x432 with 1 Axes>"
      ]
     },
     "metadata": {},
     "output_type": "display_data"
    }
   ],
   "source": [
    "from kneed import KneeLocator\n",
    "\n",
    "i = np.arange(len(distances))\n",
    "knee = KneeLocator(i, distances, S=1, curve='convex', direction='increasing', interp_method='polynomial')\n",
    "\n",
    "fig = plt.figure(figsize=(5, 5))\n",
    "knee.plot_knee()\n",
    "plt.xlabel(\"Points\")\n",
    "plt.ylabel(\"Distance\")\n",
    "\n",
    "print('Optimal e value:%d' % distances[knee.knee])"
   ]
  },
  {
   "cell_type": "code",
   "execution_count": 657,
   "metadata": {},
   "outputs": [
    {
     "name": "stdout",
     "output_type": "stream",
     "text": [
      "Estimated number of clusters: 12\n",
      "Estimated number of noise points: 0\n"
     ]
    },
    {
     "data": {
      "text/plain": [
       "<matplotlib.collections.PathCollection at 0x1406b9db6a0>"
      ]
     },
     "execution_count": 657,
     "metadata": {},
     "output_type": "execute_result"
    },
    {
     "data": {
      "image/png": "[encoded data removed]",
      "text/plain": [
       "<Figure size 864x720 with 1 Axes>"
      ]
     },
     "metadata": {},
     "output_type": "display_data"
    }
   ],
   "source": [
    "\n",
    "#dbscan on movements dataset\n",
    "db = DBSCAN(eps=3, min_samples=1)\n",
    "clusters = db.fit_predict(scaled)\n",
    "labels = db.labels_\n",
    "labels\n",
    "n_clusters_ = len(set(labels)) - (1 if -1 in labels else 0)\n",
    "n_noise_ = list(labels).count(-1)\n",
    "\n",
    "print('Estimated number of clusters: %d' % n_clusters_)\n",
    "print('Estimated number of noise points: %d' % n_noise_)\n",
    "#plot the clusters\n",
    "fig, ax = plt.subplots(figsize=(12, 10))\n",
    "ax.scatter(scaled[:, 0],  scaled[:, 1], c=clusters, cmap=\"plasma\")"
   ]
  },
  {
   "cell_type": "code",
   "execution_count": 658,
   "metadata": {},
   "outputs": [
    {
     "data": {
      "text/plain": [
       "array([ 0,  1,  2,  3,  4,  3,  3,  3,  5,  3,  3,  3,  3,  3,  3,  3,  3,\n",
       "        6,  7,  3,  3,  3,  3,  8,  3,  3,  3,  3,  3,  3,  9,  3,  3,  3,\n",
       "        3, 10,  3,  3,  3,  3,  3,  3,  3,  3, 11,  3,  3,  3,  3,  3,  3,\n",
       "        3,  3,  3,  3,  3,  3,  3,  3,  3], dtype=int64)"
      ]
     },
     "execution_count": 658,
     "metadata": {},
     "output_type": "execute_result"
    }
   ],
   "source": [
    "labels"
   ]
  },
  {
   "cell_type": "markdown",
   "metadata": {},
   "source": [
    "### AgglomerativeClustering on movements ###"
   ]
  },
  {
   "cell_type": "code",
   "execution_count": 745,
   "metadata": {},
   "outputs": [
    {
     "data": {
      "text/plain": [
       "<Figure size 1080x864 with 0 Axes>"
      ]
     },
     "execution_count": 745,
     "metadata": {},
     "output_type": "execute_result"
    },
    {
     "data": {
      "text/plain": [
       "<Figure size 1080x864 with 0 Axes>"
      ]
     },
     "metadata": {},
     "output_type": "display_data"
    }
   ],
   "source": [
    "#scaling movements data\n",
    "from sklearn.preprocessing import normalize\n",
    "movementss=movements.values\n",
    "# Any Pre-processing needed?\n",
    "normalized_movements = normalize(movementss)\n",
    "plt.figure(figsize=(15,12))"
   ]
  },
  {
   "cell_type": "code",
   "execution_count": 746,
   "metadata": {},
   "outputs": [
    {
     "data": {
      "image/png": "[encoded data removed]",
      "text/plain": [
       "<Figure size 1080x864 with 1 Axes>"
      ]
     },
     "metadata": {},
     "output_type": "display_data"
    }
   ],
   "source": [
    "\n",
    "plt.figure(figsize=(15,12))\n",
    "# Calculate the linkage: mergings\n",
    "mergings = linkage(normalized_movements, method='ward')\n",
    "#\"Your code here\"\n",
    "# Plot the dendrogram\n",
    "dendrogram(\n",
    "    mergings,\n",
    "    labels=companies,\n",
    "    leaf_rotation=90.,\n",
    "    leaf_font_size=8\n",
    ")\n",
    "\n",
    "plt.show()"
   ]
  },
  {
   "cell_type": "code",
   "execution_count": 747,
   "metadata": {},
   "outputs": [
    {
     "name": "stdout",
     "output_type": "stream",
     "text": [
      "[ 2  3  2  8  9  8 11  7  6  0  6  4  6  6  5  3  8  2  8 11  1  7  5  4\n",
      "  4  0  8  0  0  9 10 10  6  4  7  3  9 11  0  0  0  0 11 11  6  7 11  4\n",
      "  7 11  4  4 11  6  1  8  1  6  3  2]\n"
     ]
    },
    {
     "data": {
      "image/png": "[encoded data removed]",
      "text/plain": [
       "<Figure size 720x504 with 1 Axes>"
      ]
     },
     "metadata": {},
     "output_type": "display_data"
    }
   ],
   "source": [
    "from sklearn.cluster import AgglomerativeClustering\n",
    "cluster = AgglomerativeClustering(n_clusters=12, affinity='euclidean', linkage='ward')  \n",
    "\n",
    "cluster.fit_predict(normalized_movements)  \n",
    "plt.figure(figsize=(10, 7))  \n",
    "plt.scatter(normalized_movements[:,0], normalized_movements[:,1], c=cluster.labels_, cmap='rainbow')  \n",
    "print(cluster.labels_)"
   ]
  },
  {
   "cell_type": "markdown",
   "metadata": {},
   "source": [
    "### Interpretation of K means vs DBSCAN vs Hierarchical Clustering (Agglomerative)\n",
    "\n",
    "We see that for large number of dimensions dataset, K means worked well in comparision to dbscan and agglomerative.\n",
    "However, in dbscan it is givng an optimal cluster value based on eps and min samples unlike K means."
   ]
  },
  {
   "cell_type": "markdown",
   "metadata": {},
   "source": [
    "### Problem 4 ###"
   ]
  },
  {
   "cell_type": "markdown",
   "metadata": {},
   "source": [
    "Apply t-SNE reduction to delta.csv file and compare/discuss the results with PCA. Please submit your code and output, and write down 3-4 sentences that you observed from the results."
   ]
  },
  {
   "cell_type": "code",
   "execution_count": 748,
   "metadata": {},
   "outputs": [
    {
     "data": {
      "text/html": [
       "<div>\n",
       "<style scoped>\n",
       "    .dataframe tbody tr th:only-of-type {\n",
       "        vertical-align: middle;\n",
       "    }\n",
       "\n",
       "    .dataframe tbody tr th {\n",
       "        vertical-align: top;\n",
       "    }\n",
       "\n",
       "    .dataframe thead th {\n",
       "        text-align: right;\n",
       "    }\n",
       "</style>\n",
       "<table border=\"1\" class=\"dataframe\">\n",
       "  <thead>\n",
       "    <tr style=\"text-align: right;\">\n",
       "      <th></th>\n",
       "      <th>Seat Width (Club)</th>\n",
       "      <th>Seat Pitch (Club)</th>\n",
       "      <th>Seat (Club)</th>\n",
       "      <th>Seat Width (First Class)</th>\n",
       "      <th>Seat Pitch (First Class)</th>\n",
       "      <th>Seats (First Class)</th>\n",
       "      <th>Seat Width (Business)</th>\n",
       "      <th>Seat Pitch (Business)</th>\n",
       "      <th>Seats (Business)</th>\n",
       "      <th>Seat Width (Eco Comfort)</th>\n",
       "      <th>...</th>\n",
       "      <th>Video</th>\n",
       "      <th>Power</th>\n",
       "      <th>Satellite</th>\n",
       "      <th>Flat-bed</th>\n",
       "      <th>Sleeper</th>\n",
       "      <th>Club</th>\n",
       "      <th>First Class</th>\n",
       "      <th>Business</th>\n",
       "      <th>Eco Comfort</th>\n",
       "      <th>Economy</th>\n",
       "    </tr>\n",
       "    <tr>\n",
       "      <th>Aircraft</th>\n",
       "      <th></th>\n",
       "      <th></th>\n",
       "      <th></th>\n",
       "      <th></th>\n",
       "      <th></th>\n",
       "      <th></th>\n",
       "      <th></th>\n",
       "      <th></th>\n",
       "      <th></th>\n",
       "      <th></th>\n",
       "      <th></th>\n",
       "      <th></th>\n",
       "      <th></th>\n",
       "      <th></th>\n",
       "      <th></th>\n",
       "      <th></th>\n",
       "      <th></th>\n",
       "      <th></th>\n",
       "      <th></th>\n",
       "      <th></th>\n",
       "      <th></th>\n",
       "    </tr>\n",
       "  </thead>\n",
       "  <tbody>\n",
       "    <tr>\n",
       "      <th>Airbus A319</th>\n",
       "      <td>0.0</td>\n",
       "      <td>0</td>\n",
       "      <td>0</td>\n",
       "      <td>21.0</td>\n",
       "      <td>36.0</td>\n",
       "      <td>12</td>\n",
       "      <td>0.0</td>\n",
       "      <td>0.0</td>\n",
       "      <td>0</td>\n",
       "      <td>17.2</td>\n",
       "      <td>...</td>\n",
       "      <td>0</td>\n",
       "      <td>0</td>\n",
       "      <td>0</td>\n",
       "      <td>0</td>\n",
       "      <td>0</td>\n",
       "      <td>0</td>\n",
       "      <td>1</td>\n",
       "      <td>0</td>\n",
       "      <td>1</td>\n",
       "      <td>1</td>\n",
       "    </tr>\n",
       "    <tr>\n",
       "      <th>Airbus A319 VIP</th>\n",
       "      <td>19.4</td>\n",
       "      <td>44</td>\n",
       "      <td>12</td>\n",
       "      <td>19.4</td>\n",
       "      <td>40.0</td>\n",
       "      <td>28</td>\n",
       "      <td>21.0</td>\n",
       "      <td>59.0</td>\n",
       "      <td>14</td>\n",
       "      <td>0.0</td>\n",
       "      <td>...</td>\n",
       "      <td>1</td>\n",
       "      <td>0</td>\n",
       "      <td>0</td>\n",
       "      <td>0</td>\n",
       "      <td>0</td>\n",
       "      <td>1</td>\n",
       "      <td>1</td>\n",
       "      <td>1</td>\n",
       "      <td>0</td>\n",
       "      <td>0</td>\n",
       "    </tr>\n",
       "    <tr>\n",
       "      <th>Airbus A320</th>\n",
       "      <td>0.0</td>\n",
       "      <td>0</td>\n",
       "      <td>0</td>\n",
       "      <td>21.0</td>\n",
       "      <td>36.0</td>\n",
       "      <td>12</td>\n",
       "      <td>0.0</td>\n",
       "      <td>0.0</td>\n",
       "      <td>0</td>\n",
       "      <td>17.2</td>\n",
       "      <td>...</td>\n",
       "      <td>0</td>\n",
       "      <td>0</td>\n",
       "      <td>0</td>\n",
       "      <td>0</td>\n",
       "      <td>0</td>\n",
       "      <td>0</td>\n",
       "      <td>1</td>\n",
       "      <td>0</td>\n",
       "      <td>1</td>\n",
       "      <td>1</td>\n",
       "    </tr>\n",
       "    <tr>\n",
       "      <th>Airbus A320 32-R</th>\n",
       "      <td>0.0</td>\n",
       "      <td>0</td>\n",
       "      <td>0</td>\n",
       "      <td>21.0</td>\n",
       "      <td>36.0</td>\n",
       "      <td>12</td>\n",
       "      <td>0.0</td>\n",
       "      <td>0.0</td>\n",
       "      <td>0</td>\n",
       "      <td>17.2</td>\n",
       "      <td>...</td>\n",
       "      <td>0</td>\n",
       "      <td>0</td>\n",
       "      <td>0</td>\n",
       "      <td>0</td>\n",
       "      <td>0</td>\n",
       "      <td>0</td>\n",
       "      <td>1</td>\n",
       "      <td>0</td>\n",
       "      <td>1</td>\n",
       "      <td>1</td>\n",
       "    </tr>\n",
       "    <tr>\n",
       "      <th>Airbus A330-200</th>\n",
       "      <td>0.0</td>\n",
       "      <td>0</td>\n",
       "      <td>0</td>\n",
       "      <td>0.0</td>\n",
       "      <td>0.0</td>\n",
       "      <td>0</td>\n",
       "      <td>21.0</td>\n",
       "      <td>60.0</td>\n",
       "      <td>32</td>\n",
       "      <td>18.0</td>\n",
       "      <td>...</td>\n",
       "      <td>1</td>\n",
       "      <td>1</td>\n",
       "      <td>0</td>\n",
       "      <td>1</td>\n",
       "      <td>0</td>\n",
       "      <td>0</td>\n",
       "      <td>0</td>\n",
       "      <td>1</td>\n",
       "      <td>1</td>\n",
       "      <td>1</td>\n",
       "    </tr>\n",
       "  </tbody>\n",
       "</table>\n",
       "<p>5 rows × 33 columns</p>\n",
       "</div>"
      ],
      "text/plain": [
       "                  Seat Width (Club)  Seat Pitch (Club)  Seat (Club)  \\\n",
       "Aircraft                                                              \n",
       "Airbus A319                     0.0                  0            0   \n",
       "Airbus A319 VIP                19.4                 44           12   \n",
       "Airbus A320                     0.0                  0            0   \n",
       "Airbus A320 32-R                0.0                  0            0   \n",
       "Airbus A330-200                 0.0                  0            0   \n",
       "\n",
       "                  Seat Width (First Class)  Seat Pitch (First Class)  \\\n",
       "Aircraft                                                               \n",
       "Airbus A319                           21.0                      36.0   \n",
       "Airbus A319 VIP                       19.4                      40.0   \n",
       "Airbus A320                           21.0                      36.0   \n",
       "Airbus A320 32-R                      21.0                      36.0   \n",
       "Airbus A330-200                        0.0                       0.0   \n",
       "\n",
       "                  Seats (First Class)  Seat Width (Business)  \\\n",
       "Aircraft                                                       \n",
       "Airbus A319                        12                    0.0   \n",
       "Airbus A319 VIP                    28                   21.0   \n",
       "Airbus A320                        12                    0.0   \n",
       "Airbus A320 32-R                   12                    0.0   \n",
       "Airbus A330-200                     0                   21.0   \n",
       "\n",
       "                  Seat Pitch (Business)  Seats (Business)  \\\n",
       "Aircraft                                                    \n",
       "Airbus A319                         0.0                 0   \n",
       "Airbus A319 VIP                    59.0                14   \n",
       "Airbus A320                         0.0                 0   \n",
       "Airbus A320 32-R                    0.0                 0   \n",
       "Airbus A330-200                    60.0                32   \n",
       "\n",
       "                  Seat Width (Eco Comfort)  ...  Video  Power  Satellite  \\\n",
       "Aircraft                                    ...                            \n",
       "Airbus A319                           17.2  ...      0      0          0   \n",
       "Airbus A319 VIP                        0.0  ...      1      0          0   \n",
       "Airbus A320                           17.2  ...      0      0          0   \n",
       "Airbus A320 32-R                      17.2  ...      0      0          0   \n",
       "Airbus A330-200                       18.0  ...      1      1          0   \n",
       "\n",
       "                  Flat-bed  Sleeper  Club  First Class  Business  Eco Comfort  \\\n",
       "Aircraft                                                                        \n",
       "Airbus A319              0        0     0            1         0            1   \n",
       "Airbus A319 VIP          0        0     1            1         1            0   \n",
       "Airbus A320              0        0     0            1         0            1   \n",
       "Airbus A320 32-R         0        0     0            1         0            1   \n",
       "Airbus A330-200          1        0     0            0         1            1   \n",
       "\n",
       "                  Economy  \n",
       "Aircraft                   \n",
       "Airbus A319             1  \n",
       "Airbus A319 VIP         0  \n",
       "Airbus A320             1  \n",
       "Airbus A320 32-R        1  \n",
       "Airbus A330-200         1  \n",
       "\n",
       "[5 rows x 33 columns]"
      ]
     },
     "execution_count": 748,
     "metadata": {},
     "output_type": "execute_result"
    }
   ],
   "source": [
    "df = pd.read_csv('delta.csv', index_col='Aircraft')\n",
    "delta=df.iloc[:,]#.values[:,0]\n",
    "delta.head()"
   ]
  },
  {
   "cell_type": "code",
   "execution_count": 749,
   "metadata": {},
   "outputs": [
    {
     "data": {
      "text/plain": [
       "array([0, 2, 0, 0, 1, 1, 1, 1, 0, 2, 2, 2, 2, 1, 2, 2, 2, 2, 2, 2, 2, 2,\n",
       "       1, 1, 2, 2, 1, 1, 1, 1, 1, 3, 3, 0, 0, 0, 0, 0, 0, 0, 0, 0, 0, 0])"
      ]
     },
     "execution_count": 749,
     "metadata": {},
     "output_type": "execute_result"
    }
   ],
   "source": [
    "from sklearn.cluster import KMeans\n",
    "#We build our model assuming three clusters\n",
    "k_means = KMeans(n_clusters=4, n_init=10)\n",
    "\n",
    "#We fit our data to assign classes\n",
    "k_means.fit(delta)\n",
    "\n",
    "#Obtain the predictions\n",
    "labels= k_means.predict(delta)\n",
    "labels"
   ]
  },
  {
   "cell_type": "code",
   "execution_count": 750,
   "metadata": {},
   "outputs": [],
   "source": [
    "from sklearn.manifold import TSNE\n",
    "model=TSNE(n_components=2 ,learning_rate=100)\n",
    "Tsne_transformed=model.fit_transform(delta)"
   ]
  },
  {
   "cell_type": "code",
   "execution_count": 751,
   "metadata": {},
   "outputs": [
    {
     "data": {
      "image/png": "[encoded data removed]",
      "text/plain": [
       "<Figure size 360x216 with 1 Axes>"
      ]
     },
     "metadata": {},
     "output_type": "display_data"
    }
   ],
   "source": [
    "xs =Tsne_transformed[:,0]\n",
    "ys=Tsne_transformed[:,1]\n",
    "plt.scatter(xs,ys, c=labels)\n",
    "plt.show()"
   ]
  },
  {
   "cell_type": "markdown",
   "metadata": {},
   "source": [
    "### Interpretation of PCA vs TSNE\n",
    "PCA is trying to find the dimensions with maximum variance and preserving those, whereas TSNE is reducing the dimensions based on clusters , thereby presereving the non linear variance in the dataset as well.\n"
   ]
  },
  {
   "cell_type": "markdown",
   "metadata": {},
   "source": [
    "### Problem 5 (Bonus)\n",
    "\n",
    "Apply Hiearchical Clustering to delta.csv and observe how physical features are being clustered in ealry leaves at the bottom. Please submit your code and dendrogram graph along with 1-2 sentences interpretation."
   ]
  },
  {
   "cell_type": "code",
   "execution_count": 760,
   "metadata": {},
   "outputs": [
    {
     "data": {
      "text/plain": [
       "array([[5.17000e+02, 2.39900e+03, 2.00000e+00, 1.11830e+02, 3.85830e+01,\n",
       "        1.11000e+02],\n",
       "       [5.17000e+02, 3.11900e+03, 2.00000e+00, 1.11830e+02, 3.85830e+01,\n",
       "        1.11000e+02],\n",
       "       [5.17000e+02, 2.42000e+03, 2.00000e+00, 1.11830e+02, 3.85830e+01,\n",
       "        1.23250e+02],\n",
       "       [5.17000e+02, 2.42000e+03, 2.00000e+00, 1.11830e+02, 3.85830e+01,\n",
       "        1.23250e+02],\n",
       "       [5.31000e+02, 6.53600e+03, 2.00000e+00, 1.97830e+02, 5.98300e+01,\n",
       "        1.88670e+02],\n",
       "       [5.31000e+02, 6.53600e+03, 2.00000e+00, 1.97830e+02, 5.98300e+01,\n",
       "        1.88670e+02],\n",
       "       [5.31000e+02, 5.34300e+03, 2.00000e+00, 1.97830e+02, 5.63300e+01,\n",
       "        2.08830e+02],\n",
       "       [5.31000e+02, 5.34300e+03, 2.00000e+00, 1.97830e+02, 5.63300e+01,\n",
       "        2.08830e+02],\n",
       "       [5.04000e+02, 1.51000e+03, 2.00000e+00, 9.33300e+01, 2.90830e+01,\n",
       "        1.20000e+02],\n",
       "       [5.17000e+02, 2.92500e+03, 2.00000e+00, 1.17416e+02, 4.11670e+01,\n",
       "        1.10330e+02],\n",
       "       [5.17000e+02, 2.92500e+03, 2.00000e+00, 1.17416e+02, 4.11670e+01,\n",
       "        1.10330e+02],\n",
       "       [5.17000e+02, 2.85000e+03, 2.00000e+00, 1.17416e+02, 4.11670e+01,\n",
       "        1.29500e+02],\n",
       "       [5.17000e+02, 2.87000e+03, 2.00000e+00, 1.17416e+02, 4.11670e+01,\n",
       "        1.38167e+02],\n",
       "       [5.64000e+02, 7.36500e+03, 4.00000e+00, 2.13000e+02, 6.25416e+01,\n",
       "        2.31830e+02],\n",
       "       [5.17000e+02, 4.34400e+03, 2.00000e+00, 1.34750e+02, 4.45000e+01,\n",
       "        1.55250e+02],\n",
       "       [5.17000e+02, 4.70500e+03, 2.00000e+00, 1.34750e+02, 4.45000e+01,\n",
       "        1.55250e+02],\n",
       "       [5.17000e+02, 2.85400e+03, 2.00000e+00, 1.34750e+02, 4.45000e+01,\n",
       "        1.55250e+02],\n",
       "       [5.17000e+02, 2.85400e+03, 2.00000e+00, 1.34750e+02, 4.45000e+01,\n",
       "        1.55250e+02],\n",
       "       [5.17000e+02, 3.39300e+03, 2.00000e+00, 1.11830e+02, 3.85830e+01,\n",
       "        1.23250e+02],\n",
       "       [5.17000e+02, 3.76400e+03, 2.00000e+00, 1.34750e+02, 4.45000e+01,\n",
       "        1.55250e+02],\n",
       "       [5.17000e+02, 3.76400e+03, 2.00000e+00, 1.34750e+02, 4.45000e+01,\n",
       "        1.55250e+02],\n",
       "       [5.17000e+02, 3.22800e+03, 2.00000e+00, 1.24830e+02, 4.50830e+01,\n",
       "        1.77416e+02],\n",
       "       [5.17000e+02, 6.40800e+03, 2.00000e+00, 1.56083e+02, 5.20000e+01,\n",
       "        1.80250e+02],\n",
       "       [5.17000e+02, 6.40800e+03, 2.00000e+00, 1.56083e+02, 5.20000e+01,\n",
       "        1.80250e+02],\n",
       "       [5.17000e+02, 3.51500e+03, 2.00000e+00, 1.56083e+02, 5.20000e+01,\n",
       "        1.80250e+02],\n",
       "       [5.17000e+02, 3.51500e+03, 2.00000e+00, 1.56083e+02, 5.20000e+01,\n",
       "        1.80250e+02],\n",
       "       [5.17000e+02, 6.64000e+03, 2.00000e+00, 1.56083e+02, 5.20000e+01,\n",
       "        1.80250e+02],\n",
       "       [5.17000e+02, 6.40800e+03, 2.00000e+00, 1.56083e+02, 5.20000e+01,\n",
       "        1.80250e+02],\n",
       "       [5.17000e+02, 6.22100e+03, 2.00000e+00, 1.56083e+02, 5.20000e+01,\n",
       "        1.80250e+02],\n",
       "       [5.17000e+02, 6.22100e+03, 2.00000e+00, 1.56083e+02, 5.20000e+01,\n",
       "        1.80250e+02],\n",
       "       [5.17000e+02, 6.33600e+03, 2.00000e+00, 1.71000e+02, 5.49170e+01,\n",
       "        2.01330e+02],\n",
       "       [5.50000e+02, 8.54200e+03, 2.00000e+00, 2.12583e+02, 6.13300e+01,\n",
       "        2.09083e+02],\n",
       "       [5.50000e+02, 1.03750e+04, 2.00000e+00, 2.12583e+02, 6.13300e+01,\n",
       "        2.09083e+02],\n",
       "       [4.88000e+02, 1.26500e+03, 2.00000e+00, 6.95830e+01, 2.04160e+01,\n",
       "        8.78300e+01],\n",
       "       [4.88000e+02, 1.26500e+03, 2.00000e+00, 6.95830e+01, 2.04160e+01,\n",
       "        8.78300e+01],\n",
       "       [5.15000e+02, 1.65000e+03, 2.00000e+00, 7.62500e+01, 2.48300e+01,\n",
       "        1.06083e+02],\n",
       "       [5.15000e+02, 1.74400e+03, 2.00000e+00, 8.15830e+01, 2.45830e+01,\n",
       "        1.18916e+02],\n",
       "       [3.64000e+02, 9.20000e+02, 2.00000e+00, 6.49160e+01, 2.08300e+01,\n",
       "        6.55830e+01],\n",
       "       [5.45000e+02, 1.80000e+03, 2.00000e+00, 8.54160e+01, 3.23300e+01,\n",
       "        9.80830e+01],\n",
       "       [5.45000e+02, 1.80000e+03, 2.00000e+00, 8.54160e+01, 3.19160e+01,\n",
       "        1.03916e+02],\n",
       "       [5.17000e+02, 1.49600e+03, 2.00000e+00, 6.57500e+01, 2.21670e+01,\n",
       "        9.80000e+01],\n",
       "       [4.98000e+02, 1.51000e+03, 2.00000e+00, 1.07830e+02, 3.05000e+01,\n",
       "        1.47830e+02],\n",
       "       [4.98000e+02, 1.99200e+03, 2.00000e+00, 1.07830e+02, 3.05830e+01,\n",
       "        1.52583e+02],\n",
       "       [5.04000e+02, 7.31000e+02, 2.00000e+00, 9.38300e+01, 2.75000e+01,\n",
       "        1.33500e+02]])"
      ]
     },
     "execution_count": 760,
     "metadata": {},
     "output_type": "execute_result"
    }
   ],
   "source": [
    "df_bonus = Physical_Char.values\n",
    "df_bonus"
   ]
  },
  {
   "cell_type": "code",
   "execution_count": 769,
   "metadata": {},
   "outputs": [
    {
     "data": {
      "image/png": "[encoded data removed]",
      "text/plain": [
       "<Figure size 1080x720 with 1 Axes>"
      ]
     },
     "metadata": {},
     "output_type": "display_data"
    },
    {
     "name": "stdout",
     "output_type": "stream",
     "text": [
      "[10  6 10 10 18 18  1  1 12  5  5  5  5 23  2  3  5  5  9  4  4  7 21 21\n",
      "  8  8 19 21 20 20 22 24 25 11 11 14 13 16 13 13 12 12 15 17]\n"
     ]
    }
   ],
   "source": [
    "from scipy.cluster.hierarchy import linkage, dendrogram\n",
    "from scipy.cluster.hierarchy import fcluster\n",
    "plt.figure(figsize=(15, 10))\n",
    "#aircraft=df_bonus['Aircraft'].to_list()\n",
    "plt.title(\"Airline Dendograms\")\n",
    "mergings = linkage(df_bonus, method='single')#ward)\n",
    "\n",
    "aircraft = Physical_Char.index.values\n",
    "\n",
    "\n",
    "labels = fcluster(mergings, 70, criterion='distance')\n",
    "dendrogram(mergings,leaf_rotation=90,leaf_font_size=6,labels=aircraft)\n",
    "plt.show()\n",
    "\n",
    "\n",
    "\n",
    "print(labels)"
   ]
  },
  {
   "cell_type": "code",
   "execution_count": 768,
   "metadata": {},
   "outputs": [
    {
     "data": {
      "text/plain": [
       "array(['Airbus A319', 'Airbus A319 VIP', 'Airbus A320',\n",
       "       'Airbus A320 32-R', 'Airbus A330-200', 'Airbus A330-200 (3L2)',\n",
       "       'Airbus A330-200 (3L3)', 'Airbus A330-300', 'Boeing 717',\n",
       "       'Boeing 737-700 (73W)', 'Boeing 737-800 (738)',\n",
       "       'Boeing 737-800 (73H)', 'Boeing 737-900ER (739)',\n",
       "       'Boeing 747-400 (74S)', 'Boeing 757-200 (75A)',\n",
       "       'Boeing 757-200 (75E)', 'Boeing 757-200 (75M)',\n",
       "       'Boeing 757-200 (75N)', 'Boeing 757-200 (757)',\n",
       "       'Boeing 757-200 (75V)', 'Boeing 757-200 (75X)', 'Boeing 757-300',\n",
       "       'Boeing 767-300 (76G)', 'Boeing 767-300 (76L)',\n",
       "       'Boeing 767-300 (76P)', 'Boeing 767-300 (76Q)',\n",
       "       'Boeing 767-300 (76T)', 'Boeing 767-300 (76U)',\n",
       "       'Boeing 767-300 (76Z V.1)', 'Boeing 767-300 (76Z V.2)',\n",
       "       'Boeing 767-400 (76D)', 'Boeing 777-200ER', 'Boeing 777-200LR',\n",
       "       'CRJ 100/200 Pinnacle/SkyWest', 'CRJ 100/200 ExpressJet',\n",
       "       'CRJ 700', 'CRJ 900', 'E120', 'E170', 'E175', 'ERJ-145', 'MD-88',\n",
       "       'MD-90', 'MD-DC9-50'], dtype=object)"
      ]
     },
     "execution_count": 768,
     "metadata": {},
     "output_type": "execute_result"
    }
   ],
   "source": []
  },
  {
   "cell_type": "code",
   "execution_count": 754,
   "metadata": {},
   "outputs": [
    {
     "data": {
      "text/plain": [
       "<matplotlib.collections.PathCollection at 0x1405b5a29d0>"
      ]
     },
     "execution_count": 754,
     "metadata": {},
     "output_type": "execute_result"
    },
    {
     "data": {
      "image/png": "[encoded data removed]",
      "text/plain": [
       "<Figure size 720x504 with 1 Axes>"
      ]
     },
     "metadata": {},
     "output_type": "display_data"
    }
   ],
   "source": [
    "#Approach 2:\n",
    "from sklearn.cluster import AgglomerativeClustering\n",
    "\n",
    "\n",
    "cluster = AgglomerativeClustering(n_clusters=12, affinity='euclidean', linkage='ward')\n",
    "cluster.fit_predict(df_bonus)\n",
    "plt.figure(figsize=(10, 7))\n",
    "plt.scatter(df_bonus[:,0], df_bonus[:,1], c=cluster.labels_, cmap='rainbow')"
   ]
  },
  {
   "cell_type": "markdown",
   "metadata": {},
   "source": [
    "### Interpretation \n",
    "hierarchical cluster analysis forms clusters iteratively, by successively joining or splitting groups\n",
    "Here we have considered the physical features of the aircrafts as mentioned while doing the PCA and applied hierarchy to it!"
   ]
  }
 ],
 "metadata": {
  "kernelspec": {
   "display_name": "Python 3 (ipykernel)",
   "language": "python",
   "name": "python3"
  },
  "language_info": {
   "codemirror_mode": {
    "name": "ipython",
    "version": 3
   },
   "file_extension": ".py",
   "mimetype": "text/x-python",
   "name": "python",
   "nbconvert_exporter": "python",
   "pygments_lexer": "ipython3",
   "version": "3.9.7"
  }
 },
 "nbformat": 4,
 "nbformat_minor": 2
}
